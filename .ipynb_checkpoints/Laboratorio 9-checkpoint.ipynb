{
 "cells": [
  {
   "cell_type": "markdown",
   "id": "65e46405",
   "metadata": {},
   "source": [
    "# Estadística descriptiva"
   ]
  },
  {
   "cell_type": "code",
   "execution_count": 44,
   "id": "ef6db5e1",
   "metadata": {},
   "outputs": [],
   "source": [
    "import numpy as np\n",
    "\n",
    "np.random.seed(2131982)\n",
    "\n"
   ]
  },
  {
   "cell_type": "code",
   "execution_count": 47,
   "id": "f7f465a7",
   "metadata": {},
   "outputs": [
    {
     "data": {
      "text/plain": [
       "array([[ 11,  51,  71,  10,  88,  11,  91,  98,  25,  87],\n",
       "       [ 50,  27,  14,  39,  63,  20,   6,  21,  88,  65],\n",
       "       [ 88,  36,  81,  17,  68,  35,  93,  26,  77,  64],\n",
       "       [ 55,  18,  27,  17,  77,  90,  54,   7,  88,  24],\n",
       "       [ 49,  45,  44,  40,  38,  93,  91,  20,  76,  69],\n",
       "       [  1,  17,  56,  82,  48,  45,  58,  48,  71,  70],\n",
       "       [ 72,  83,  96,  51,  83,  50,  69,  92,  44,  60],\n",
       "       [ 87,  19,  47,   6,  52,  89,  29,  77,  31,  79],\n",
       "       [ 10,   2,  60,  90,  25,  12,  37,  77,   2,  12],\n",
       "       [ 78,  29,  76,  61,  83,  52,  46, 100,  99,   5]])"
      ]
     },
     "execution_count": 47,
     "metadata": {},
     "output_type": "execute_result"
    }
   ],
   "source": [
    "data = np.random.randint(1, high=101, size=(10,10)) \n",
    "#la documentación menciona que provienen de una distribución normal\n",
    "#https://numpy.org/doc/stable/reference/random/generated/numpy.random.randint.html\n",
    "\n",
    "data"
   ]
  },
  {
   "cell_type": "markdown",
   "id": "dca78fd3",
   "metadata": {},
   "source": [
    "### Media aritmética"
   ]
  },
  {
   "cell_type": "code",
   "execution_count": 51,
   "id": "fe2c1642",
   "metadata": {},
   "outputs": [
    {
     "data": {
      "text/plain": [
       "52.11"
      ]
     },
     "execution_count": 51,
     "metadata": {},
     "output_type": "execute_result"
    }
   ],
   "source": [
    "np.mean(data)"
   ]
  },
  {
   "cell_type": "markdown",
   "id": "299d8dcd",
   "metadata": {},
   "source": [
    "### Mediana"
   ]
  },
  {
   "cell_type": "code",
   "execution_count": 52,
   "id": "6b660e30",
   "metadata": {},
   "outputs": [
    {
     "data": {
      "text/plain": [
       "51.5"
      ]
     },
     "execution_count": 52,
     "metadata": {},
     "output_type": "execute_result"
    }
   ],
   "source": [
    "np.median(data)"
   ]
  },
  {
   "cell_type": "markdown",
   "id": "3b21be98",
   "metadata": {},
   "source": [
    "### Desviación típica"
   ]
  },
  {
   "cell_type": "code",
   "execution_count": 53,
   "id": "330bd8be",
   "metadata": {},
   "outputs": [
    {
     "data": {
      "text/plain": [
       "29.144774831863085"
      ]
     },
     "execution_count": 53,
     "metadata": {},
     "output_type": "execute_result"
    }
   ],
   "source": [
    "np.std(data)"
   ]
  },
  {
   "cell_type": "markdown",
   "id": "eb640a5e",
   "metadata": {},
   "source": [
    "### Varianza"
   ]
  },
  {
   "cell_type": "code",
   "execution_count": 56,
   "id": "3bbaee09",
   "metadata": {},
   "outputs": [
    {
     "data": {
      "text/plain": [
       "849.4178999999999"
      ]
     },
     "execution_count": 56,
     "metadata": {},
     "output_type": "execute_result"
    }
   ],
   "source": [
    "np.var(data)"
   ]
  },
  {
   "cell_type": "markdown",
   "id": "081b25a3",
   "metadata": {},
   "source": [
    "### Media aritmética de cada fila"
   ]
  },
  {
   "cell_type": "code",
   "execution_count": 66,
   "id": "bd58ab10",
   "metadata": {},
   "outputs": [
    {
     "name": "stdout",
     "output_type": "stream",
     "text": [
      "Fila 1 = 54.3\n",
      "Fila 2 = 39.3\n",
      "Fila 3 = 58.5\n",
      "Fila 4 = 45.7\n",
      "Fila 5 = 56.5\n",
      "Fila 6 = 49.6\n",
      "Fila 7 = 70.0\n",
      "Fila 8 = 51.6\n",
      "Fila 9 = 32.7\n",
      "Fila 10 = 62.9\n"
     ]
    }
   ],
   "source": [
    "rowNumber = 1\n",
    "for row in data:\n",
    "    print('Fila ' + str(rowNumber) + ' = ' + str(np.mean(row)))\n",
    "    rowNumber += 1"
   ]
  },
  {
   "cell_type": "markdown",
   "id": "ca51db18",
   "metadata": {},
   "source": [
    "### Media aritmética de cada columna"
   ]
  },
  {
   "cell_type": "code",
   "execution_count": 67,
   "id": "dfafbc51",
   "metadata": {},
   "outputs": [
    {
     "name": "stdout",
     "output_type": "stream",
     "text": [
      "Columna 1 = 50.1\n",
      "Columna 2 = 32.7\n",
      "Columna 3 = 57.2\n",
      "Columna 4 = 41.3\n",
      "Columna 5 = 62.5\n",
      "Columna 6 = 49.7\n",
      "Columna 7 = 57.4\n",
      "Columna 8 = 56.6\n",
      "Columna 9 = 60.1\n",
      "Columna 10 = 53.5\n"
     ]
    }
   ],
   "source": [
    "columnNumber = 1\n",
    "for column in data.T:\n",
    "    print('Columna ' + str(columnNumber) + ' = ' + str(np.mean(column)))\n",
    "    columnNumber += 1"
   ]
  },
  {
   "cell_type": "markdown",
   "id": "6f66f75f",
   "metadata": {},
   "source": [
    "### Desviación típica de cada fila"
   ]
  },
  {
   "cell_type": "code",
   "execution_count": 68,
   "id": "52a79a80",
   "metadata": {},
   "outputs": [
    {
     "name": "stdout",
     "output_type": "stream",
     "text": [
      "Fila 1 = 35.10284888723421\n",
      "Fila 2 = 25.13185229942274\n",
      "Fila 3 = 26.204007327124604\n",
      "Fila 4 = 29.65821977125397\n",
      "Fila 5 = 23.13114783144148\n",
      "Fila 6 = 23.423065555131764\n",
      "Fila 7 = 17.435595774162696\n",
      "Fila 8 = 28.541899025818168\n",
      "Fila 9 = 30.538664017929793\n",
      "Fila 10 = 28.970502239346835\n"
     ]
    }
   ],
   "source": [
    "rowNumber = 1\n",
    "for row in data:\n",
    "    print('Fila ' + str(rowNumber) + ' = ' + str(np.std(row)))\n",
    "    rowNumber += 1"
   ]
  },
  {
   "cell_type": "markdown",
   "id": "f684b7fa",
   "metadata": {},
   "source": [
    "### Desviación típica de cada columna"
   ]
  },
  {
   "cell_type": "code",
   "execution_count": 69,
   "id": "d47acb1b",
   "metadata": {},
   "outputs": [
    {
     "name": "stdout",
     "output_type": "stream",
     "text": [
      "Columna 1 = 31.030468897520706\n",
      "Columna 2 = 21.601157376399996\n",
      "Columna 3 = 23.83610706470333\n",
      "Columna 4 = 28.14977797425763\n",
      "Columna 5 = 20.145719148245863\n",
      "Columna 6 = 30.14647574758947\n",
      "Columna 7 = 27.688264662127168\n",
      "Columna 8 = 34.29343960584881\n",
      "Columna 9 = 30.72604758181566\n",
      "Columna 10 = 27.412588349150834\n"
     ]
    }
   ],
   "source": [
    "columnNumber = 1\n",
    "for column in data.T:\n",
    "    print('Columna ' + str(columnNumber) + ' = ' + str(np.std(column)))\n",
    "    columnNumber += 1"
   ]
  },
  {
   "cell_type": "markdown",
   "id": "2acfdc24",
   "metadata": {},
   "source": [
    "### Varianza de cada fila"
   ]
  },
  {
   "cell_type": "code",
   "execution_count": 70,
   "id": "8dcb30f6",
   "metadata": {},
   "outputs": [
    {
     "name": "stdout",
     "output_type": "stream",
     "text": [
      "Fila 1 = 1232.21\n",
      "Fila 2 = 631.61\n",
      "Fila 3 = 686.65\n",
      "Fila 4 = 879.6099999999999\n",
      "Fila 5 = 535.05\n",
      "Fila 6 = 548.6400000000001\n",
      "Fila 7 = 304.0\n",
      "Fila 8 = 814.6400000000001\n",
      "Fila 9 = 932.6099999999999\n",
      "Fila 10 = 839.29\n"
     ]
    }
   ],
   "source": [
    "rowNumber = 1\n",
    "for row in data:\n",
    "    print('Fila ' + str(rowNumber) + ' = ' + str(np.var(row)))\n",
    "    rowNumber += 1"
   ]
  },
  {
   "cell_type": "markdown",
   "id": "f47a863b",
   "metadata": {},
   "source": [
    "### Varianza de cada columna"
   ]
  },
  {
   "cell_type": "code",
   "execution_count": 71,
   "id": "dc1b6a91",
   "metadata": {},
   "outputs": [
    {
     "name": "stdout",
     "output_type": "stream",
     "text": [
      "Columna 1 = 962.89\n",
      "Columna 2 = 466.60999999999996\n",
      "Columna 3 = 568.16\n",
      "Columna 4 = 792.4100000000001\n",
      "Columna 5 = 405.85\n",
      "Columna 6 = 908.8100000000002\n",
      "Columna 7 = 766.6400000000001\n",
      "Columna 8 = 1176.04\n",
      "Columna 9 = 944.0899999999999\n",
      "Columna 10 = 751.45\n"
     ]
    }
   ],
   "source": [
    "columnNumber = 1\n",
    "for column in data.T:\n",
    "    print('Columna ' + str(columnNumber) + ' = ' + str(np.var(column)))\n",
    "    columnNumber += 1"
   ]
  },
  {
   "cell_type": "markdown",
   "id": "e548080d",
   "metadata": {},
   "source": [
    "### Calculando mismos datos con pandas"
   ]
  },
  {
   "cell_type": "code",
   "execution_count": 78,
   "id": "41f797d3",
   "metadata": {},
   "outputs": [
    {
     "data": {
      "text/html": [
       "<div>\n",
       "<style scoped>\n",
       "    .dataframe tbody tr th:only-of-type {\n",
       "        vertical-align: middle;\n",
       "    }\n",
       "\n",
       "    .dataframe tbody tr th {\n",
       "        vertical-align: top;\n",
       "    }\n",
       "\n",
       "    .dataframe thead th {\n",
       "        text-align: right;\n",
       "    }\n",
       "</style>\n",
       "<table border=\"1\" class=\"dataframe\">\n",
       "  <thead>\n",
       "    <tr style=\"text-align: right;\">\n",
       "      <th></th>\n",
       "      <th>c1</th>\n",
       "      <th>c2</th>\n",
       "      <th>c3</th>\n",
       "      <th>c4</th>\n",
       "      <th>c5</th>\n",
       "      <th>c6</th>\n",
       "      <th>c7</th>\n",
       "      <th>c8</th>\n",
       "      <th>c9</th>\n",
       "      <th>c10</th>\n",
       "    </tr>\n",
       "  </thead>\n",
       "  <tbody>\n",
       "    <tr>\n",
       "      <th>f1</th>\n",
       "      <td>11</td>\n",
       "      <td>51</td>\n",
       "      <td>71</td>\n",
       "      <td>10</td>\n",
       "      <td>88</td>\n",
       "      <td>11</td>\n",
       "      <td>91</td>\n",
       "      <td>98</td>\n",
       "      <td>25</td>\n",
       "      <td>87</td>\n",
       "    </tr>\n",
       "    <tr>\n",
       "      <th>f2</th>\n",
       "      <td>50</td>\n",
       "      <td>27</td>\n",
       "      <td>14</td>\n",
       "      <td>39</td>\n",
       "      <td>63</td>\n",
       "      <td>20</td>\n",
       "      <td>6</td>\n",
       "      <td>21</td>\n",
       "      <td>88</td>\n",
       "      <td>65</td>\n",
       "    </tr>\n",
       "    <tr>\n",
       "      <th>f3</th>\n",
       "      <td>88</td>\n",
       "      <td>36</td>\n",
       "      <td>81</td>\n",
       "      <td>17</td>\n",
       "      <td>68</td>\n",
       "      <td>35</td>\n",
       "      <td>93</td>\n",
       "      <td>26</td>\n",
       "      <td>77</td>\n",
       "      <td>64</td>\n",
       "    </tr>\n",
       "    <tr>\n",
       "      <th>f4</th>\n",
       "      <td>55</td>\n",
       "      <td>18</td>\n",
       "      <td>27</td>\n",
       "      <td>17</td>\n",
       "      <td>77</td>\n",
       "      <td>90</td>\n",
       "      <td>54</td>\n",
       "      <td>7</td>\n",
       "      <td>88</td>\n",
       "      <td>24</td>\n",
       "    </tr>\n",
       "    <tr>\n",
       "      <th>f5</th>\n",
       "      <td>49</td>\n",
       "      <td>45</td>\n",
       "      <td>44</td>\n",
       "      <td>40</td>\n",
       "      <td>38</td>\n",
       "      <td>93</td>\n",
       "      <td>91</td>\n",
       "      <td>20</td>\n",
       "      <td>76</td>\n",
       "      <td>69</td>\n",
       "    </tr>\n",
       "    <tr>\n",
       "      <th>f6</th>\n",
       "      <td>1</td>\n",
       "      <td>17</td>\n",
       "      <td>56</td>\n",
       "      <td>82</td>\n",
       "      <td>48</td>\n",
       "      <td>45</td>\n",
       "      <td>58</td>\n",
       "      <td>48</td>\n",
       "      <td>71</td>\n",
       "      <td>70</td>\n",
       "    </tr>\n",
       "    <tr>\n",
       "      <th>f7</th>\n",
       "      <td>72</td>\n",
       "      <td>83</td>\n",
       "      <td>96</td>\n",
       "      <td>51</td>\n",
       "      <td>83</td>\n",
       "      <td>50</td>\n",
       "      <td>69</td>\n",
       "      <td>92</td>\n",
       "      <td>44</td>\n",
       "      <td>60</td>\n",
       "    </tr>\n",
       "    <tr>\n",
       "      <th>f8</th>\n",
       "      <td>87</td>\n",
       "      <td>19</td>\n",
       "      <td>47</td>\n",
       "      <td>6</td>\n",
       "      <td>52</td>\n",
       "      <td>89</td>\n",
       "      <td>29</td>\n",
       "      <td>77</td>\n",
       "      <td>31</td>\n",
       "      <td>79</td>\n",
       "    </tr>\n",
       "    <tr>\n",
       "      <th>f9</th>\n",
       "      <td>10</td>\n",
       "      <td>2</td>\n",
       "      <td>60</td>\n",
       "      <td>90</td>\n",
       "      <td>25</td>\n",
       "      <td>12</td>\n",
       "      <td>37</td>\n",
       "      <td>77</td>\n",
       "      <td>2</td>\n",
       "      <td>12</td>\n",
       "    </tr>\n",
       "    <tr>\n",
       "      <th>f10</th>\n",
       "      <td>78</td>\n",
       "      <td>29</td>\n",
       "      <td>76</td>\n",
       "      <td>61</td>\n",
       "      <td>83</td>\n",
       "      <td>52</td>\n",
       "      <td>46</td>\n",
       "      <td>100</td>\n",
       "      <td>99</td>\n",
       "      <td>5</td>\n",
       "    </tr>\n",
       "  </tbody>\n",
       "</table>\n",
       "</div>"
      ],
      "text/plain": [
       "     c1  c2  c3  c4  c5  c6  c7   c8  c9  c10\n",
       "f1   11  51  71  10  88  11  91   98  25   87\n",
       "f2   50  27  14  39  63  20   6   21  88   65\n",
       "f3   88  36  81  17  68  35  93   26  77   64\n",
       "f4   55  18  27  17  77  90  54    7  88   24\n",
       "f5   49  45  44  40  38  93  91   20  76   69\n",
       "f6    1  17  56  82  48  45  58   48  71   70\n",
       "f7   72  83  96  51  83  50  69   92  44   60\n",
       "f8   87  19  47   6  52  89  29   77  31   79\n",
       "f9   10   2  60  90  25  12  37   77   2   12\n",
       "f10  78  29  76  61  83  52  46  100  99    5"
      ]
     },
     "execution_count": 78,
     "metadata": {},
     "output_type": "execute_result"
    }
   ],
   "source": [
    "import pandas as pd\n",
    "\n",
    "dataframe = pd.DataFrame(data, index=['f1', 'f2', 'f3','f4','f5','f6','f7','f8','f9','f10'], columns = ['c1', 'c2', 'c3', 'c4','c5','c6','c7','c8','c9','c10'])\n",
    "dataframe"
   ]
  },
  {
   "cell_type": "code",
   "execution_count": 79,
   "id": "66767695",
   "metadata": {},
   "outputs": [
    {
     "data": {
      "text/html": [
       "<div>\n",
       "<style scoped>\n",
       "    .dataframe tbody tr th:only-of-type {\n",
       "        vertical-align: middle;\n",
       "    }\n",
       "\n",
       "    .dataframe tbody tr th {\n",
       "        vertical-align: top;\n",
       "    }\n",
       "\n",
       "    .dataframe thead th {\n",
       "        text-align: right;\n",
       "    }\n",
       "</style>\n",
       "<table border=\"1\" class=\"dataframe\">\n",
       "  <thead>\n",
       "    <tr style=\"text-align: right;\">\n",
       "      <th></th>\n",
       "      <th>c1</th>\n",
       "      <th>c2</th>\n",
       "      <th>c3</th>\n",
       "      <th>c4</th>\n",
       "      <th>c5</th>\n",
       "      <th>c6</th>\n",
       "      <th>c7</th>\n",
       "      <th>c8</th>\n",
       "      <th>c9</th>\n",
       "      <th>c10</th>\n",
       "    </tr>\n",
       "  </thead>\n",
       "  <tbody>\n",
       "    <tr>\n",
       "      <th>count</th>\n",
       "      <td>10.000000</td>\n",
       "      <td>10.000000</td>\n",
       "      <td>10.000000</td>\n",
       "      <td>10.000000</td>\n",
       "      <td>10.000000</td>\n",
       "      <td>10.000000</td>\n",
       "      <td>10.000000</td>\n",
       "      <td>10.000000</td>\n",
       "      <td>10.000000</td>\n",
       "      <td>10.000000</td>\n",
       "    </tr>\n",
       "    <tr>\n",
       "      <th>mean</th>\n",
       "      <td>50.100000</td>\n",
       "      <td>32.700000</td>\n",
       "      <td>57.200000</td>\n",
       "      <td>41.300000</td>\n",
       "      <td>62.500000</td>\n",
       "      <td>49.700000</td>\n",
       "      <td>57.400000</td>\n",
       "      <td>56.600000</td>\n",
       "      <td>60.100000</td>\n",
       "      <td>53.500000</td>\n",
       "    </tr>\n",
       "    <tr>\n",
       "      <th>std</th>\n",
       "      <td>32.708986</td>\n",
       "      <td>22.769619</td>\n",
       "      <td>25.125463</td>\n",
       "      <td>29.672471</td>\n",
       "      <td>21.235453</td>\n",
       "      <td>31.777176</td>\n",
       "      <td>29.185994</td>\n",
       "      <td>36.148459</td>\n",
       "      <td>32.388098</td>\n",
       "      <td>28.895405</td>\n",
       "    </tr>\n",
       "    <tr>\n",
       "      <th>min</th>\n",
       "      <td>1.000000</td>\n",
       "      <td>2.000000</td>\n",
       "      <td>14.000000</td>\n",
       "      <td>6.000000</td>\n",
       "      <td>25.000000</td>\n",
       "      <td>11.000000</td>\n",
       "      <td>6.000000</td>\n",
       "      <td>7.000000</td>\n",
       "      <td>2.000000</td>\n",
       "      <td>5.000000</td>\n",
       "    </tr>\n",
       "    <tr>\n",
       "      <th>25%</th>\n",
       "      <td>20.500000</td>\n",
       "      <td>18.250000</td>\n",
       "      <td>44.750000</td>\n",
       "      <td>17.000000</td>\n",
       "      <td>49.000000</td>\n",
       "      <td>23.750000</td>\n",
       "      <td>39.250000</td>\n",
       "      <td>22.250000</td>\n",
       "      <td>34.250000</td>\n",
       "      <td>33.000000</td>\n",
       "    </tr>\n",
       "    <tr>\n",
       "      <th>50%</th>\n",
       "      <td>52.500000</td>\n",
       "      <td>28.000000</td>\n",
       "      <td>58.000000</td>\n",
       "      <td>39.500000</td>\n",
       "      <td>65.500000</td>\n",
       "      <td>47.500000</td>\n",
       "      <td>56.000000</td>\n",
       "      <td>62.500000</td>\n",
       "      <td>73.500000</td>\n",
       "      <td>64.500000</td>\n",
       "    </tr>\n",
       "    <tr>\n",
       "      <th>75%</th>\n",
       "      <td>76.500000</td>\n",
       "      <td>42.750000</td>\n",
       "      <td>74.750000</td>\n",
       "      <td>58.500000</td>\n",
       "      <td>81.500000</td>\n",
       "      <td>79.750000</td>\n",
       "      <td>85.500000</td>\n",
       "      <td>88.250000</td>\n",
       "      <td>85.250000</td>\n",
       "      <td>69.750000</td>\n",
       "    </tr>\n",
       "    <tr>\n",
       "      <th>max</th>\n",
       "      <td>88.000000</td>\n",
       "      <td>83.000000</td>\n",
       "      <td>96.000000</td>\n",
       "      <td>90.000000</td>\n",
       "      <td>88.000000</td>\n",
       "      <td>93.000000</td>\n",
       "      <td>93.000000</td>\n",
       "      <td>100.000000</td>\n",
       "      <td>99.000000</td>\n",
       "      <td>87.000000</td>\n",
       "    </tr>\n",
       "  </tbody>\n",
       "</table>\n",
       "</div>"
      ],
      "text/plain": [
       "              c1         c2         c3         c4         c5         c6  \\\n",
       "count  10.000000  10.000000  10.000000  10.000000  10.000000  10.000000   \n",
       "mean   50.100000  32.700000  57.200000  41.300000  62.500000  49.700000   \n",
       "std    32.708986  22.769619  25.125463  29.672471  21.235453  31.777176   \n",
       "min     1.000000   2.000000  14.000000   6.000000  25.000000  11.000000   \n",
       "25%    20.500000  18.250000  44.750000  17.000000  49.000000  23.750000   \n",
       "50%    52.500000  28.000000  58.000000  39.500000  65.500000  47.500000   \n",
       "75%    76.500000  42.750000  74.750000  58.500000  81.500000  79.750000   \n",
       "max    88.000000  83.000000  96.000000  90.000000  88.000000  93.000000   \n",
       "\n",
       "              c7          c8         c9        c10  \n",
       "count  10.000000   10.000000  10.000000  10.000000  \n",
       "mean   57.400000   56.600000  60.100000  53.500000  \n",
       "std    29.185994   36.148459  32.388098  28.895405  \n",
       "min     6.000000    7.000000   2.000000   5.000000  \n",
       "25%    39.250000   22.250000  34.250000  33.000000  \n",
       "50%    56.000000   62.500000  73.500000  64.500000  \n",
       "75%    85.500000   88.250000  85.250000  69.750000  \n",
       "max    93.000000  100.000000  99.000000  87.000000  "
      ]
     },
     "execution_count": 79,
     "metadata": {},
     "output_type": "execute_result"
    }
   ],
   "source": [
    "dataframe.describe()"
   ]
  },
  {
   "cell_type": "code",
   "execution_count": 80,
   "id": "cc68ebd9",
   "metadata": {},
   "outputs": [
    {
     "data": {
      "text/html": [
       "<div>\n",
       "<style scoped>\n",
       "    .dataframe tbody tr th:only-of-type {\n",
       "        vertical-align: middle;\n",
       "    }\n",
       "\n",
       "    .dataframe tbody tr th {\n",
       "        vertical-align: top;\n",
       "    }\n",
       "\n",
       "    .dataframe thead th {\n",
       "        text-align: right;\n",
       "    }\n",
       "</style>\n",
       "<table border=\"1\" class=\"dataframe\">\n",
       "  <thead>\n",
       "    <tr style=\"text-align: right;\">\n",
       "      <th></th>\n",
       "      <th>f1</th>\n",
       "      <th>f2</th>\n",
       "      <th>f3</th>\n",
       "      <th>f4</th>\n",
       "      <th>f5</th>\n",
       "      <th>f6</th>\n",
       "      <th>f7</th>\n",
       "      <th>f8</th>\n",
       "      <th>f9</th>\n",
       "      <th>f10</th>\n",
       "    </tr>\n",
       "  </thead>\n",
       "  <tbody>\n",
       "    <tr>\n",
       "      <th>count</th>\n",
       "      <td>10.000000</td>\n",
       "      <td>10.000000</td>\n",
       "      <td>10.000000</td>\n",
       "      <td>10.000000</td>\n",
       "      <td>10.000000</td>\n",
       "      <td>10.000000</td>\n",
       "      <td>10.000000</td>\n",
       "      <td>10.000000</td>\n",
       "      <td>10.000000</td>\n",
       "      <td>10.000000</td>\n",
       "    </tr>\n",
       "    <tr>\n",
       "      <th>mean</th>\n",
       "      <td>54.300000</td>\n",
       "      <td>39.300000</td>\n",
       "      <td>58.500000</td>\n",
       "      <td>45.700000</td>\n",
       "      <td>56.500000</td>\n",
       "      <td>49.600000</td>\n",
       "      <td>70.000000</td>\n",
       "      <td>51.600000</td>\n",
       "      <td>32.700000</td>\n",
       "      <td>62.900000</td>\n",
       "    </tr>\n",
       "    <tr>\n",
       "      <th>std</th>\n",
       "      <td>37.001652</td>\n",
       "      <td>26.491298</td>\n",
       "      <td>27.621449</td>\n",
       "      <td>31.262509</td>\n",
       "      <td>24.382371</td>\n",
       "      <td>24.690079</td>\n",
       "      <td>18.378732</td>\n",
       "      <td>30.085803</td>\n",
       "      <td>32.190578</td>\n",
       "      <td>30.537591</td>\n",
       "    </tr>\n",
       "    <tr>\n",
       "      <th>min</th>\n",
       "      <td>10.000000</td>\n",
       "      <td>6.000000</td>\n",
       "      <td>17.000000</td>\n",
       "      <td>7.000000</td>\n",
       "      <td>20.000000</td>\n",
       "      <td>1.000000</td>\n",
       "      <td>44.000000</td>\n",
       "      <td>6.000000</td>\n",
       "      <td>2.000000</td>\n",
       "      <td>5.000000</td>\n",
       "    </tr>\n",
       "    <tr>\n",
       "      <th>25%</th>\n",
       "      <td>14.500000</td>\n",
       "      <td>20.250000</td>\n",
       "      <td>35.250000</td>\n",
       "      <td>19.500000</td>\n",
       "      <td>41.000000</td>\n",
       "      <td>45.750000</td>\n",
       "      <td>53.250000</td>\n",
       "      <td>29.500000</td>\n",
       "      <td>10.500000</td>\n",
       "      <td>47.500000</td>\n",
       "    </tr>\n",
       "    <tr>\n",
       "      <th>50%</th>\n",
       "      <td>61.000000</td>\n",
       "      <td>33.000000</td>\n",
       "      <td>66.000000</td>\n",
       "      <td>40.500000</td>\n",
       "      <td>47.000000</td>\n",
       "      <td>52.000000</td>\n",
       "      <td>70.500000</td>\n",
       "      <td>49.500000</td>\n",
       "      <td>18.500000</td>\n",
       "      <td>68.500000</td>\n",
       "    </tr>\n",
       "    <tr>\n",
       "      <th>75%</th>\n",
       "      <td>87.750000</td>\n",
       "      <td>59.750000</td>\n",
       "      <td>80.000000</td>\n",
       "      <td>71.500000</td>\n",
       "      <td>74.250000</td>\n",
       "      <td>67.000000</td>\n",
       "      <td>83.000000</td>\n",
       "      <td>78.500000</td>\n",
       "      <td>54.250000</td>\n",
       "      <td>81.750000</td>\n",
       "    </tr>\n",
       "    <tr>\n",
       "      <th>max</th>\n",
       "      <td>98.000000</td>\n",
       "      <td>88.000000</td>\n",
       "      <td>93.000000</td>\n",
       "      <td>90.000000</td>\n",
       "      <td>93.000000</td>\n",
       "      <td>82.000000</td>\n",
       "      <td>96.000000</td>\n",
       "      <td>89.000000</td>\n",
       "      <td>90.000000</td>\n",
       "      <td>100.000000</td>\n",
       "    </tr>\n",
       "  </tbody>\n",
       "</table>\n",
       "</div>"
      ],
      "text/plain": [
       "              f1         f2         f3         f4         f5         f6  \\\n",
       "count  10.000000  10.000000  10.000000  10.000000  10.000000  10.000000   \n",
       "mean   54.300000  39.300000  58.500000  45.700000  56.500000  49.600000   \n",
       "std    37.001652  26.491298  27.621449  31.262509  24.382371  24.690079   \n",
       "min    10.000000   6.000000  17.000000   7.000000  20.000000   1.000000   \n",
       "25%    14.500000  20.250000  35.250000  19.500000  41.000000  45.750000   \n",
       "50%    61.000000  33.000000  66.000000  40.500000  47.000000  52.000000   \n",
       "75%    87.750000  59.750000  80.000000  71.500000  74.250000  67.000000   \n",
       "max    98.000000  88.000000  93.000000  90.000000  93.000000  82.000000   \n",
       "\n",
       "              f7         f8         f9         f10  \n",
       "count  10.000000  10.000000  10.000000   10.000000  \n",
       "mean   70.000000  51.600000  32.700000   62.900000  \n",
       "std    18.378732  30.085803  32.190578   30.537591  \n",
       "min    44.000000   6.000000   2.000000    5.000000  \n",
       "25%    53.250000  29.500000  10.500000   47.500000  \n",
       "50%    70.500000  49.500000  18.500000   68.500000  \n",
       "75%    83.000000  78.500000  54.250000   81.750000  \n",
       "max    96.000000  89.000000  90.000000  100.000000  "
      ]
     },
     "execution_count": 80,
     "metadata": {},
     "output_type": "execute_result"
    }
   ],
   "source": [
    "dataframe.T.describe()"
   ]
  },
  {
   "cell_type": "markdown",
   "id": "1287fb79",
   "metadata": {},
   "source": [
    "### ¿Son coherentes los datos entre Numpy y Pandas?"
   ]
  },
  {
   "cell_type": "raw",
   "id": "b1a4132f",
   "metadata": {},
   "source": [
    "Aparentemente no, las medias parecen mantenerse; sin embargo, las desviaciones estándar se ven afectadas, por lo tanto las varianzas tampoco serán las mismas. Esto se debe a que Pandas usa estimación imparcial (https://es.wikipedia.org/wiki/Estimaci%C3%B3n_de_la_desviaci%C3%B3n_est%C3%A1ndar_no_sesgada) mientras que Numpy por defecto no lo hace, para que los resultados sean los mismos se le debe pasar de argumento ddof=1 a np.std()"
   ]
  },
  {
   "cell_type": "code",
   "execution_count": 81,
   "id": "fe1bf546",
   "metadata": {},
   "outputs": [
    {
     "name": "stdout",
     "output_type": "stream",
     "text": [
      "Fila 1 = 37.00165161478907\n",
      "Fila 2 = 26.49129836170528\n",
      "Fila 3 = 27.62144899248489\n",
      "Fila 4 = 31.262508607666856\n",
      "Fila 5 = 24.38237068047322\n",
      "Fila 6 = 24.690078979217542\n",
      "Fila 7 = 18.37873166945363\n",
      "Fila 8 = 30.085803222708805\n",
      "Fila 9 = 32.19057833176243\n",
      "Fila 10 = 30.537590678448165\n"
     ]
    }
   ],
   "source": [
    "rowNumber = 1\n",
    "for row in data:\n",
    "    print('Fila ' + str(rowNumber) + ' = ' + str(np.std(row, ddof=1)))\n",
    "    rowNumber += 1"
   ]
  },
  {
   "cell_type": "code",
   "execution_count": 82,
   "id": "76a49b54",
   "metadata": {},
   "outputs": [
    {
     "name": "stdout",
     "output_type": "stream",
     "text": [
      "Columna 1 = 32.708986193059815\n",
      "Columna 2 = 22.769619135057034\n",
      "Columna 3 = 25.12546295869767\n",
      "Columna 4 = 29.6724713422316\n",
      "Columna 5 = 21.235452536841414\n",
      "Columna 6 = 31.77717559647001\n",
      "Columna 7 = 29.185993596624773\n",
      "Columna 8 = 36.148459318636405\n",
      "Columna 9 = 32.3880979510821\n",
      "Columna 10 = 28.895405247970558\n"
     ]
    }
   ],
   "source": [
    "columnNumber = 1\n",
    "for column in data.T:\n",
    "    print('Columna ' + str(columnNumber) + ' = ' + str(np.std(column, ddof=1)))\n",
    "    columnNumber += 1"
   ]
  },
  {
   "cell_type": "raw",
   "id": "f11f31f4",
   "metadata": {},
   "source": [
    "Tal parece que ahora las desviaciones estándar se comportan de la misma manera en Numpy que en Pandas."
   ]
  },
  {
   "cell_type": "markdown",
   "id": "6ae584d6",
   "metadata": {},
   "source": [
    "# REDES DE BAYES"
   ]
  },
  {
   "cell_type": "code",
   "execution_count": 84,
   "id": "87ea2e94",
   "metadata": {},
   "outputs": [
    {
     "data": {
      "image/png": "[encoded data removed]",
      "text/plain": [
       "<IPython.core.display.Image object>"
      ]
     },
     "execution_count": 84,
     "metadata": {},
     "output_type": "execute_result"
    }
   ],
   "source": [
    "from IPython.display import Image\n",
    "Image(\"img/bayesNetword.png\")"
   ]
  },
  {
   "cell_type": "code",
   "execution_count": 85,
   "id": "5e4ee7f3",
   "metadata": {},
   "outputs": [],
   "source": [
    "import pyAgrum as gum"
   ]
  },
  {
   "cell_type": "code",
   "execution_count": 86,
   "id": "60134bce",
   "metadata": {},
   "outputs": [],
   "source": [
    "bn = gum.BayesNet()\n",
    "b,e,a,j,m = [bn.add(name, 2) for name in \"beajm\"]"
   ]
  },
  {
   "cell_type": "code",
   "execution_count": 88,
   "id": "08b9938d",
   "metadata": {},
   "outputs": [],
   "source": [
    "bn.addArc(b,a)\n",
    "bn.addArc(e,a)\n",
    "bn.addArc(a,j)\n",
    "bn.addArc(a,m)"
   ]
  },
  {
   "cell_type": "code",
   "execution_count": 89,
   "id": "ae158c82",
   "metadata": {},
   "outputs": [
    {
     "name": "stdout",
     "output_type": "stream",
     "text": [
      "0 1 2 3 4\n",
      "BN{nodes: 5, arcs: 4, domainSize: 32, dim: 20}\n"
     ]
    }
   ],
   "source": [
    "print(b,e,a,j,m)\n",
    "print(bn)"
   ]
  },
  {
   "cell_type": "code",
   "execution_count": 102,
   "id": "9723424f",
   "metadata": {},
   "outputs": [
    {
     "data": {
      "text/html": [
       "<svg xmlns=\"http://www.w3.org/2000/svg\" xmlns:xlink=\"http://www.w3.org/1999/xlink\" width=\"134pt\" height=\"188pt\" viewBox=\"0.00 0.00 134.00 188.00\">\n",
       "<g id=\"graph0\" class=\"graph\" transform=\"scale(1 1) rotate(0) translate(4 184)\">\n",
       "<title>G</title>\n",
       "<!-- m -->\n",
       "<g id=\"node1\" class=\"node\">\n",
       "<title>m</title>\n",
       "<g id=\"a_node1\"><a xlink:title=\"(4) m\">\n",
       "<ellipse fill=\"#404040\" stroke=\"black\" cx=\"27\" cy=\"-18\" rx=\"27\" ry=\"18\"/>\n",
       "<text text-anchor=\"middle\" x=\"27\" y=\"-14.3\" font-family=\"Times New Roman,serif\" font-size=\"14.00\" fill=\"white\">m</text>\n",
       "</a>\n",
       "</g>\n",
       "</g>\n",
       "<!-- b -->\n",
       "<g id=\"node2\" class=\"node\">\n",
       "<title>b</title>\n",
       "<g id=\"a_node2\"><a xlink:title=\"(0) b\">\n",
       "<ellipse fill=\"#404040\" stroke=\"black\" cx=\"27\" cy=\"-162\" rx=\"27\" ry=\"18\"/>\n",
       "<text text-anchor=\"middle\" x=\"27\" y=\"-158.3\" font-family=\"Times New Roman,serif\" font-size=\"14.00\" fill=\"white\">b</text>\n",
       "</a>\n",
       "</g>\n",
       "</g>\n",
       "<!-- a -->\n",
       "<g id=\"node4\" class=\"node\">\n",
       "<title>a</title>\n",
       "<g id=\"a_node4\"><a xlink:title=\"(2) a\">\n",
       "<ellipse fill=\"#404040\" stroke=\"black\" cx=\"63\" cy=\"-90\" rx=\"27\" ry=\"18\"/>\n",
       "<text text-anchor=\"middle\" x=\"63\" y=\"-86.3\" font-family=\"Times New Roman,serif\" font-size=\"14.00\" fill=\"white\">a</text>\n",
       "</a>\n",
       "</g>\n",
       "</g>\n",
       "<!-- b&#45;&gt;a -->\n",
       "<g id=\"edge2\" class=\"edge\">\n",
       "<title>b-&gt;a</title>\n",
       "<g id=\"a_edge2\"><a xlink:title=\"(0, 2) : \">\n",
       "<path fill=\"none\" stroke=\"#4a4a4a\" d=\"M35.35,-144.76C39.71,-136.28 45.15,-125.71 50.04,-116.2\"/>\n",
       "<polygon fill=\"#4a4a4a\" stroke=\"#4a4a4a\" points=\"53.23,-117.64 54.7,-107.15 47.01,-114.44 53.23,-117.64\"/>\n",
       "</a>\n",
       "</g>\n",
       "</g>\n",
       "<!-- e -->\n",
       "<g id=\"node3\" class=\"node\">\n",
       "<title>e</title>\n",
       "<g id=\"a_node3\"><a xlink:title=\"(1) e\">\n",
       "<ellipse fill=\"#404040\" stroke=\"black\" cx=\"99\" cy=\"-162\" rx=\"27\" ry=\"18\"/>\n",
       "<text text-anchor=\"middle\" x=\"99\" y=\"-158.3\" font-family=\"Times New Roman,serif\" font-size=\"14.00\" fill=\"white\">e</text>\n",
       "</a>\n",
       "</g>\n",
       "</g>\n",
       "<!-- e&#45;&gt;a -->\n",
       "<g id=\"edge3\" class=\"edge\">\n",
       "<title>e-&gt;a</title>\n",
       "<g id=\"a_edge3\"><a xlink:title=\"(1, 2) : \">\n",
       "<path fill=\"none\" stroke=\"#4a4a4a\" d=\"M90.65,-144.76C86.29,-136.28 80.85,-125.71 75.96,-116.2\"/>\n",
       "<polygon fill=\"#4a4a4a\" stroke=\"#4a4a4a\" points=\"78.99,-114.44 71.3,-107.15 72.77,-117.64 78.99,-114.44\"/>\n",
       "</a>\n",
       "</g>\n",
       "</g>\n",
       "<!-- a&#45;&gt;m -->\n",
       "<g id=\"edge4\" class=\"edge\">\n",
       "<title>a-&gt;m</title>\n",
       "<g id=\"a_edge4\"><a xlink:title=\"(2, 4) : \">\n",
       "<path fill=\"none\" stroke=\"#4a4a4a\" d=\"M54.65,-72.76C50.29,-64.28 44.85,-53.71 39.96,-44.2\"/>\n",
       "<polygon fill=\"#4a4a4a\" stroke=\"#4a4a4a\" points=\"42.99,-42.44 35.3,-35.15 36.77,-45.64 42.99,-42.44\"/>\n",
       "</a>\n",
       "</g>\n",
       "</g>\n",
       "<!-- j -->\n",
       "<g id=\"node5\" class=\"node\">\n",
       "<title>j</title>\n",
       "<g id=\"a_node5\"><a xlink:title=\"(3) j\">\n",
       "<ellipse fill=\"#404040\" stroke=\"black\" cx=\"99\" cy=\"-18\" rx=\"27\" ry=\"18\"/>\n",
       "<text text-anchor=\"middle\" x=\"99\" y=\"-14.3\" font-family=\"Times New Roman,serif\" font-size=\"14.00\" fill=\"white\">j</text>\n",
       "</a>\n",
       "</g>\n",
       "</g>\n",
       "<!-- a&#45;&gt;j -->\n",
       "<g id=\"edge1\" class=\"edge\">\n",
       "<title>a-&gt;j</title>\n",
       "<g id=\"a_edge1\"><a xlink:title=\"(2, 3) : \">\n",
       "<path fill=\"none\" stroke=\"#4a4a4a\" d=\"M71.35,-72.76C75.71,-64.28 81.15,-53.71 86.04,-44.2\"/>\n",
       "<polygon fill=\"#4a4a4a\" stroke=\"#4a4a4a\" points=\"89.23,-45.64 90.7,-35.15 83.01,-42.44 89.23,-45.64\"/>\n",
       "</a>\n",
       "</g>\n",
       "</g>\n",
       "</g>\n",
       "</svg>"
      ],
      "text/plain": [
       "(gum::BayesNet<double>@0000027D8C6E5EB0) BN{nodes: 5, arcs: 4, domainSize: 32, dim: 20}"
      ]
     },
     "execution_count": 102,
     "metadata": {},
     "output_type": "execute_result"
    }
   ],
   "source": [
    "import pyAgrum.lib.notebook as gnb\n",
    "bn"
   ]
  },
  {
   "cell_type": "code",
   "execution_count": 124,
   "id": "1ab7414c",
   "metadata": {},
   "outputs": [
    {
     "data": {
      "text/html": [
       "<table style=\"border:1px solid black;\">\n",
       "<tr style='border:1px solid black;color:black;background-color:#808080'><th colspan='2'><center>b</center></th></tr>\n",
       "<tr><th style='border:1px solid black;border-bottom-style: double;color:black;background-color:#BBBBBB'><center>0</center></th><th style='border:1px solid black;border-bottom-style: double;color:black;background-color:#BBBBBB'><center>1</center></th></tr>\n",
       "<tr><td style='color:black;background-color:#7ffe64;text-align:right;'>0.9990</td><td style='color:black;background-color:#fe7f64;text-align:right;'>0.0010</td></tr>\n",
       "</table>"
      ],
      "text/plain": [
       "(gum::Potential<double>@0000027D8C92E9C0) \n",
       "  b                |\n",
       "0        |1        |\n",
       "---------|---------|\n",
       " 0.9990  | 0.0010  |"
      ]
     },
     "execution_count": 124,
     "metadata": {},
     "output_type": "execute_result"
    }
   ],
   "source": [
    "bn.cpt(b).fillWith([0.999,0.001])"
   ]
  },
  {
   "cell_type": "code",
   "execution_count": 125,
   "id": "203058d6",
   "metadata": {},
   "outputs": [
    {
     "data": {
      "text/html": [
       "<table style=\"border:1px solid black;\">\n",
       "<tr style='border:1px solid black;color:black;background-color:#808080'><th colspan='2'><center>e</center></th></tr>\n",
       "<tr><th style='border:1px solid black;border-bottom-style: double;color:black;background-color:#BBBBBB'><center>0</center></th><th style='border:1px solid black;border-bottom-style: double;color:black;background-color:#BBBBBB'><center>1</center></th></tr>\n",
       "<tr><td style='color:black;background-color:#7ffe64;text-align:right;'>0.9980</td><td style='color:black;background-color:#fe7f64;text-align:right;'>0.0020</td></tr>\n",
       "</table>"
      ],
      "text/plain": [
       "(gum::Potential<double>@0000027D8C92E8C0) \n",
       "  e                |\n",
       "0        |1        |\n",
       "---------|---------|\n",
       " 0.9980  | 0.0020  |"
      ]
     },
     "execution_count": 125,
     "metadata": {},
     "output_type": "execute_result"
    }
   ],
   "source": [
    "bn.cpt(e).fillWith([0.998,0.002])"
   ]
  },
  {
   "cell_type": "code",
   "execution_count": 116,
   "id": "16967981",
   "metadata": {},
   "outputs": [
    {
     "data": {
      "text/html": [
       "<table style=\"border:1px solid black;\">\n",
       "<tr><th colspan='2'></th><th colspan='2' style='border:1px solid black;color:black;background-color:#808080;'><center>a</center></th></tr>\n",
       "<tr><th style='border:1px solid black;color:black;background-color:#808080'><center>e</center></th><th style='border:1px solid black;color:black;background-color:#808080'><center>b</center></th><th style='border:1px solid black;border-bottom-style: double;color:black;background-color:#BBBBBB'><center>0</center></th><th style='border:1px solid black;border-bottom-style: double;color:black;background-color:#BBBBBB'><center>1</center></th></tr>\n",
       "<tr><th style='border:1px solid black;color:black;background-color:#BBBBBB;' rowspan = '2'><center>0</center></th><th style='border:1px solid black;color:black;background-color:#BBBBBB'><center>0</center></th><td style='color:black;background-color:#7ffe64;text-align:right;'>0.9990</td><td style='color:black;background-color:#fe7f64;text-align:right;'>0.0010</td></tr>\n",
       "<tr><th style='border:1px solid black;color:black;background-color:#BBBBBB'><center>1</center></th><td style='color:black;background-color:#f78664;text-align:right;'>0.0600</td><td style='color:black;background-color:#86f764;text-align:right;'>0.9400</td></tr>\n",
       "<tr><th style='border:1px solid black;color:black;background-color:#BBBBBB;' rowspan = '2'><center>1</center></th><th style='border:1px solid black;color:black;background-color:#BBBBBB'><center>0</center></th><td style='color:black;background-color:#a4d964;text-align:right;'>0.7100</td><td style='color:black;background-color:#d9a464;text-align:right;'>0.2900</td></tr>\n",
       "<tr><th style='border:1px solid black;color:black;background-color:#BBBBBB'><center>1</center></th><td style='color:black;background-color:#f88564;text-align:right;'>0.0500</td><td style='color:black;background-color:#85f864;text-align:right;'>0.9500</td></tr>\n",
       "</table>"
      ],
      "text/plain": [
       "(gum::Potential<double>@0000027D8C92EF40) \n",
       "             ||  a                |\n",
       "b     |e     ||0        |1        |\n",
       "------|------||---------|---------|\n",
       "0     |0     || 0.9990  | 0.0010  |\n",
       "1     |0     || 0.0600  | 0.9400  |\n",
       "0     |1     || 0.7100  | 0.2900  |\n",
       "1     |1     || 0.0500  | 0.9500  |"
      ]
     },
     "execution_count": 116,
     "metadata": {},
     "output_type": "execute_result"
    }
   ],
   "source": [
    "bn.cpt(a)[{'b': 1, 'e': 1}] = [0.05, 0.95]\n",
    "bn.cpt(a)[{'b': 1, 'e': 0}] = [0.06, 0.94]\n",
    "bn.cpt(a)[{'b': 0, 'e': 1}] = [0.71, 0.29]\n",
    "bn.cpt(a)[{'b': 0, 'e': 0}] = [0.999, 0.001]\n",
    "bn.cpt(a)"
   ]
  },
  {
   "cell_type": "code",
   "execution_count": 126,
   "id": "f74fb2b3",
   "metadata": {},
   "outputs": [
    {
     "data": {
      "text/html": [
       "<table style=\"border:1px solid black;\">\n",
       "<tr><th colspan='1'></th><th colspan='2' style='border:1px solid black;color:black;background-color:#808080;'><center>j</center></th></tr>\n",
       "<tr><th style='border:1px solid black;color:black;background-color:#808080'><center>a</center></th><th style='border:1px solid black;border-bottom-style: double;color:black;background-color:#BBBBBB'><center>0</center></th><th style='border:1px solid black;border-bottom-style: double;color:black;background-color:#BBBBBB'><center>1</center></th></tr>\n",
       "<tr><th style='border:1px solid black;color:black;background-color:#BBBBBB'><center>0</center></th><td style='color:black;background-color:#85f864;text-align:right;'>0.9500</td><td style='color:black;background-color:#f88564;text-align:right;'>0.0500</td></tr>\n",
       "<tr><th style='border:1px solid black;color:black;background-color:#BBBBBB'><center>1</center></th><td style='color:black;background-color:#f28b64;text-align:right;'>0.1000</td><td style='color:black;background-color:#8bf264;text-align:right;'>0.9000</td></tr>\n",
       "</table>"
      ],
      "text/plain": [
       "(gum::Potential<double>@0000027D8C92EC20) \n",
       "      ||  j                |\n",
       "a     ||0        |1        |\n",
       "------||---------|---------|\n",
       "0     || 0.9500  | 0.0500  |\n",
       "1     || 0.1000  | 0.9000  |"
      ]
     },
     "execution_count": 126,
     "metadata": {},
     "output_type": "execute_result"
    }
   ],
   "source": [
    "bn.cpt(j)[{'a': 1}] = [0.1, 0.9]\n",
    "bn.cpt(j)[{'a': 0}] = [0.95, 0.05]\n",
    "bn.cpt(j)"
   ]
  },
  {
   "cell_type": "code",
   "execution_count": 156,
   "id": "4a82fd8a",
   "metadata": {},
   "outputs": [
    {
     "data": {
      "text/html": [
       "<table style=\"border:1px solid black;\">\n",
       "<tr><th colspan='1'></th><th colspan='2' style='border:1px solid black;color:black;background-color:#808080;'><center>m</center></th></tr>\n",
       "<tr><th style='border:1px solid black;color:black;background-color:#808080'><center>a</center></th><th style='border:1px solid black;border-bottom-style: double;color:black;background-color:#BBBBBB'><center>0</center></th><th style='border:1px solid black;border-bottom-style: double;color:black;background-color:#BBBBBB'><center>1</center></th></tr>\n",
       "<tr><th style='border:1px solid black;color:black;background-color:#BBBBBB'><center>0</center></th><td style='color:black;background-color:#80fd64;text-align:right;'>0.9900</td><td style='color:black;background-color:#fd8064;text-align:right;'>0.0100</td></tr>\n",
       "<tr><th style='border:1px solid black;color:black;background-color:#BBBBBB'><center>1</center></th><td style='color:black;background-color:#d8a564;text-align:right;'>0.3000</td><td style='color:black;background-color:#a5d864;text-align:right;'>0.7000</td></tr>\n",
       "</table>"
      ],
      "text/plain": [
       "(gum::Potential<double>@0000027D8C92EF60) \n",
       "      ||  m                |\n",
       "a     ||0        |1        |\n",
       "------||---------|---------|\n",
       "0     || 0.9900  | 0.0100  |\n",
       "1     || 0.3000  | 0.7000  |"
      ]
     },
     "execution_count": 156,
     "metadata": {},
     "output_type": "execute_result"
    }
   ],
   "source": [
    "bn.cpt(m)[{'a': 1}] = [0.3, 0.7]\n",
    "bn.cpt(m)[{'a': 0}] = [0.99, 0.01]\n",
    "bn.cpt(m)"
   ]
  },
  {
   "cell_type": "markdown",
   "id": "03106108",
   "metadata": {},
   "source": [
    "$P(m)$"
   ]
  },
  {
   "cell_type": "code",
   "execution_count": 196,
   "id": "47933ddd",
   "metadata": {},
   "outputs": [
    {
     "data": {
      "text/html": [
       "<table style=\"border:1px solid black;\">\n",
       "<tr style='border:1px solid black;color:black;background-color:#808080'><th colspan='2'><center>m</center></th></tr>\n",
       "<tr><th style='border:1px solid black;border-bottom-style: double;color:black;background-color:#BBBBBB'><center>0</center></th><th style='border:1px solid black;border-bottom-style: double;color:black;background-color:#BBBBBB'><center>1</center></th></tr>\n",
       "<tr><td style='color:black;background-color:#80fd64;text-align:right;'>0.9883</td><td style='color:black;background-color:#fd8064;text-align:right;'>0.0117</td></tr>\n",
       "</table>"
      ],
      "text/plain": [
       "(gum::Potential<double>@0000027D8C92E620) \n",
       "  m                |\n",
       "0        |1        |\n",
       "---------|---------|\n",
       " 0.9883  | 0.0117  |"
      ]
     },
     "execution_count": 196,
     "metadata": {},
     "output_type": "execute_result"
    }
   ],
   "source": [
    "ie = gum.LazyPropagation(bn)\n",
    "ie.makeInference()\n",
    "ie.posterior(m)"
   ]
  },
  {
   "cell_type": "markdown",
   "id": "e76fe263",
   "metadata": {},
   "source": [
    "$P(m|+b,+a) = P(m|+a)$"
   ]
  },
  {
   "cell_type": "code",
   "execution_count": 192,
   "id": "22a4247f",
   "metadata": {},
   "outputs": [
    {
     "data": {
      "text/html": [
       "<table style=\"border:1px solid black;\">\n",
       "<tr style='border:1px solid black;color:black;background-color:#808080'><th colspan='2'><center>m</center></th></tr>\n",
       "<tr><th style='border:1px solid black;border-bottom-style: double;color:black;background-color:#BBBBBB'><center>0</center></th><th style='border:1px solid black;border-bottom-style: double;color:black;background-color:#BBBBBB'><center>1</center></th></tr>\n",
       "<tr><td style='color:black;background-color:#d8a564;text-align:right;'>0.3000</td><td style='color:black;background-color:#a5d864;text-align:right;'>0.7000</td></tr>\n",
       "</table>"
      ],
      "text/plain": [
       "(gum::Potential<double>@0000027D8C92DC60) \n",
       "  m                |\n",
       "0        |1        |\n",
       "---------|---------|\n",
       " 0.3000  | 0.7000  |"
      ]
     },
     "execution_count": 192,
     "metadata": {},
     "output_type": "execute_result"
    }
   ],
   "source": [
    "ie.setEvidence({'a':1})\n",
    "ie.makeInference()\n",
    "ie.posterior(m)"
   ]
  },
  {
   "cell_type": "markdown",
   "id": "d63a9b27",
   "metadata": {},
   "source": [
    "$P(+b,-e,+a,-j,+m) = P(+b) * P(-e) * P(+a | +b,-e) * P(-j | +a ) * P(+m | +a )$"
   ]
  },
  {
   "cell_type": "code",
   "execution_count": 193,
   "id": "b6e6ce4d",
   "metadata": {},
   "outputs": [
    {
     "name": "stdout",
     "output_type": "stream",
     "text": [
      "0.001\n",
      "0.998\n",
      "0.94\n",
      "0.1\n",
      "0.7\n",
      "P(+b,-e,+a,-j,+m) = 6.56684e-05\n"
     ]
    }
   ],
   "source": [
    "ie = gum.LazyPropagation(bn)\n",
    "ie.makeInference()\n",
    "\n",
    "b1 = float(ie.posterior(b)[1])\n",
    "e0 = float(ie.posterior(e)[0])\n",
    "\n",
    "ie.setEvidence({'b':1, 'e':0})\n",
    "ie.makeInference()\n",
    "a1b1e0 = float(ie.posterior(a)[1])\n",
    "\n",
    "ie.setEvidence({'a':1})\n",
    "ie.makeInference()\n",
    "j0a1 = float(ie.posterior(j)[0])\n",
    "m1a1 = float(ie.posterior(m)[1])\n",
    "\n",
    "print(b1)\n",
    "print(e0)\n",
    "print(a1b1e0)\n",
    "print(j0a1)\n",
    "print(m1a1)\n",
    "\n",
    "result = b1 * e0 * a1b1e0 * j0a1 * m1a1\n",
    "\n",
    "print('P(+b,-e,+a,-j,+m) = ' + str(result))\n",
    "\n"
   ]
  },
  {
   "cell_type": "code",
   "execution_count": 195,
   "id": "0f2c27dc",
   "metadata": {},
   "outputs": [
    {
     "data": {
      "text/plain": [
       "0.06999999999999999"
      ]
     },
     "execution_count": 195,
     "metadata": {},
     "output_type": "execute_result"
    }
   ],
   "source": [
    "ie = gum.LazyPropagation(bn)\n",
    "ie.setEvidence({'b':1, 'e':0, 'a':1})\n",
    "ie.makeInference()\n",
    "float(ie.posterior(j)[0])*float(ie.posterior(m)[1])"
   ]
  },
  {
   "cell_type": "code",
   "execution_count": null,
   "id": "657ceb0d",
   "metadata": {},
   "outputs": [],
   "source": []
  }
 ],
 "metadata": {
  "kernelspec": {
   "display_name": "Python 3",
   "language": "python",
   "name": "python3"
  },
  "language_info": {
   "codemirror_mode": {
    "name": "ipython",
    "version": 3
   },
   "file_extension": ".py",
   "mimetype": "text/x-python",
   "name": "python",
   "nbconvert_exporter": "python",
   "pygments_lexer": "ipython3",
   "version": "3.9.4"
  }
 },
 "nbformat": 4,
 "nbformat_minor": 5
}
