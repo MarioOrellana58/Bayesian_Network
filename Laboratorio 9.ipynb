{
 "cells": [
  {
   "cell_type": "markdown",
   "id": "660f0175",
   "metadata": {},
   "source": [
    "# Estadística descriptiva"
   ]
  },
  {
   "cell_type": "code",
   "execution_count": 1,
   "id": "89520938",
   "metadata": {},
   "outputs": [],
   "source": [
    "import numpy as np\n",
    "\n",
    "np.random.seed(2131982)\n",
    "\n"
   ]
  },
  {
   "cell_type": "code",
   "execution_count": 2,
   "id": "f9ed6a78",
   "metadata": {},
   "outputs": [
    {
     "data": {
      "text/plain": [
       "array([[  2,   3,  48,  59,  89,  79,  71,  80,  19,  22],\n",
       "       [ 74,  20,  16,  13,  74,  88,  61,  28,  11,  79],\n",
       "       [ 86,  91,  91,  80,  43,   6,  83,  59, 100,  98],\n",
       "       [ 38,  37,  47,  48,  15,  17,  21,   6,  32,  88],\n",
       "       [ 14,  18,  54,  39,  47,  48,  33,  59,  63,  49],\n",
       "       [ 98,  19,  59,  99,  26,  42,  77,  62,  25,  11],\n",
       "       [ 42,  25,  16,  66,   6,  76,  84,  20,  11,  95],\n",
       "       [  9,  27,  63,  24,  15,  73,  44,  22,  47,  85],\n",
       "       [ 58,  37,  94,  24,  99,  70,  39,  46,  29, 100],\n",
       "       [ 98,  92,  91,  24,  70,  91,  78,  73,  73,  37]])"
      ]
     },
     "execution_count": 2,
     "metadata": {},
     "output_type": "execute_result"
    }
   ],
   "source": [
    "data = np.random.randint(1, high=101, size=(10,10)) \n",
    "#la documentación menciona que provienen de una distribución normal\n",
    "#https://numpy.org/doc/stable/reference/random/generated/numpy.random.randint.html\n",
    "\n",
    "data"
   ]
  },
  {
   "cell_type": "markdown",
   "id": "8673b698",
   "metadata": {},
   "source": [
    "### Media aritmética"
   ]
  },
  {
   "cell_type": "code",
   "execution_count": 3,
   "id": "b778c749",
   "metadata": {},
   "outputs": [
    {
     "data": {
      "text/plain": [
       "51.37"
      ]
     },
     "execution_count": 3,
     "metadata": {},
     "output_type": "execute_result"
    }
   ],
   "source": [
    "np.mean(data)"
   ]
  },
  {
   "cell_type": "markdown",
   "id": "8d060178",
   "metadata": {},
   "source": [
    "### Mediana"
   ]
  },
  {
   "cell_type": "code",
   "execution_count": 4,
   "id": "dacb505b",
   "metadata": {},
   "outputs": [
    {
     "data": {
      "text/plain": [
       "48.0"
      ]
     },
     "execution_count": 4,
     "metadata": {},
     "output_type": "execute_result"
    }
   ],
   "source": [
    "np.median(data)"
   ]
  },
  {
   "cell_type": "markdown",
   "id": "95e74b77",
   "metadata": {},
   "source": [
    "### Desviación típica"
   ]
  },
  {
   "cell_type": "code",
   "execution_count": 5,
   "id": "68f73790",
   "metadata": {},
   "outputs": [
    {
     "data": {
      "text/plain": [
       "29.729330634913392"
      ]
     },
     "execution_count": 5,
     "metadata": {},
     "output_type": "execute_result"
    }
   ],
   "source": [
    "np.std(data)"
   ]
  },
  {
   "cell_type": "markdown",
   "id": "475e77bc",
   "metadata": {},
   "source": [
    "### Varianza"
   ]
  },
  {
   "cell_type": "code",
   "execution_count": 6,
   "id": "0d8beefc",
   "metadata": {},
   "outputs": [
    {
     "data": {
      "text/plain": [
       "883.8331"
      ]
     },
     "execution_count": 6,
     "metadata": {},
     "output_type": "execute_result"
    }
   ],
   "source": [
    "np.var(data)"
   ]
  },
  {
   "cell_type": "markdown",
   "id": "a0400d00",
   "metadata": {},
   "source": [
    "### Media aritmética de cada fila"
   ]
  },
  {
   "cell_type": "code",
   "execution_count": 7,
   "id": "3e00088e",
   "metadata": {},
   "outputs": [
    {
     "name": "stdout",
     "output_type": "stream",
     "text": [
      "Fila 1 = 47.2\n",
      "Fila 2 = 46.4\n",
      "Fila 3 = 73.7\n",
      "Fila 4 = 34.9\n",
      "Fila 5 = 42.4\n",
      "Fila 6 = 51.8\n",
      "Fila 7 = 44.1\n",
      "Fila 8 = 40.9\n",
      "Fila 9 = 59.6\n",
      "Fila 10 = 72.7\n"
     ]
    }
   ],
   "source": [
    "rowNumber = 1\n",
    "for row in data:\n",
    "    print('Fila ' + str(rowNumber) + ' = ' + str(np.mean(row)))\n",
    "    rowNumber += 1"
   ]
  },
  {
   "cell_type": "markdown",
   "id": "1dc3b91e",
   "metadata": {},
   "source": [
    "### Media aritmética de cada columna"
   ]
  },
  {
   "cell_type": "code",
   "execution_count": 8,
   "id": "5bf28129",
   "metadata": {},
   "outputs": [
    {
     "name": "stdout",
     "output_type": "stream",
     "text": [
      "Columna 1 = 51.9\n",
      "Columna 2 = 36.9\n",
      "Columna 3 = 57.9\n",
      "Columna 4 = 47.6\n",
      "Columna 5 = 48.4\n",
      "Columna 6 = 59.0\n",
      "Columna 7 = 59.1\n",
      "Columna 8 = 45.5\n",
      "Columna 9 = 41.0\n",
      "Columna 10 = 66.4\n"
     ]
    }
   ],
   "source": [
    "columnNumber = 1\n",
    "for column in data.T:\n",
    "    print('Columna ' + str(columnNumber) + ' = ' + str(np.mean(column)))\n",
    "    columnNumber += 1"
   ]
  },
  {
   "cell_type": "markdown",
   "id": "dc31896b",
   "metadata": {},
   "source": [
    "### Desviación típica de cada fila"
   ]
  },
  {
   "cell_type": "code",
   "execution_count": 9,
   "id": "3f78e4bb",
   "metadata": {},
   "outputs": [
    {
     "name": "stdout",
     "output_type": "stream",
     "text": [
      "Fila 1 = 31.571506140822613\n",
      "Fila 2 = 29.763064358362026\n",
      "Fila 3 = 28.107116536564185\n",
      "Fila 4 = 22.147008827378922\n",
      "Fila 5 = 15.596153371905523\n",
      "Fila 6 = 30.616335509005648\n",
      "Fila 7 = 31.57039752679716\n",
      "Fila 8 = 24.566033460858105\n",
      "Fila 9 = 27.932776446318403\n",
      "Fila 10 = 23.160526764303096\n"
     ]
    }
   ],
   "source": [
    "rowNumber = 1\n",
    "for row in data:\n",
    "    print('Fila ' + str(rowNumber) + ' = ' + str(np.std(row)))\n",
    "    rowNumber += 1"
   ]
  },
  {
   "cell_type": "markdown",
   "id": "73e7e52f",
   "metadata": {},
   "source": [
    "### Desviación típica de cada columna"
   ]
  },
  {
   "cell_type": "code",
   "execution_count": 10,
   "id": "6ee6e0f2",
   "metadata": {},
   "outputs": [
    {
     "name": "stdout",
     "output_type": "stream",
     "text": [
      "Columna 1 = 34.63654139777815\n",
      "Columna 2 = 28.8355683141498\n",
      "Columna 3 = 26.953478439711635\n",
      "Columna 4 = 26.650328328183875\n",
      "Columna 5 = 31.45218593357225\n",
      "Columna 6 = 28.02498884923953\n",
      "Columna 7 = 21.860695322884858\n",
      "Columna 8 = 23.77498685593748\n",
      "Columna 9 = 27.910571473905726\n",
      "Columna 10 = 31.8188623303851\n"
     ]
    }
   ],
   "source": [
    "columnNumber = 1\n",
    "for column in data.T:\n",
    "    print('Columna ' + str(columnNumber) + ' = ' + str(np.std(column)))\n",
    "    columnNumber += 1"
   ]
  },
  {
   "cell_type": "markdown",
   "id": "fb75d047",
   "metadata": {},
   "source": [
    "### Varianza de cada fila"
   ]
  },
  {
   "cell_type": "code",
   "execution_count": 11,
   "id": "00abce48",
   "metadata": {},
   "outputs": [
    {
     "name": "stdout",
     "output_type": "stream",
     "text": [
      "Fila 1 = 996.76\n",
      "Fila 2 = 885.8399999999999\n",
      "Fila 3 = 790.0099999999999\n",
      "Fila 4 = 490.48999999999995\n",
      "Fila 5 = 243.24\n",
      "Fila 6 = 937.36\n",
      "Fila 7 = 996.6900000000002\n",
      "Fila 8 = 603.49\n",
      "Fila 9 = 780.2400000000001\n",
      "Fila 10 = 536.4100000000001\n"
     ]
    }
   ],
   "source": [
    "rowNumber = 1\n",
    "for row in data:\n",
    "    print('Fila ' + str(rowNumber) + ' = ' + str(np.var(row)))\n",
    "    rowNumber += 1"
   ]
  },
  {
   "cell_type": "markdown",
   "id": "08de3e09",
   "metadata": {},
   "source": [
    "### Varianza de cada columna"
   ]
  },
  {
   "cell_type": "code",
   "execution_count": 12,
   "id": "f8e3e4f4",
   "metadata": {},
   "outputs": [
    {
     "name": "stdout",
     "output_type": "stream",
     "text": [
      "Columna 1 = 1199.6899999999998\n",
      "Columna 2 = 831.49\n",
      "Columna 3 = 726.49\n",
      "Columna 4 = 710.24\n",
      "Columna 5 = 989.24\n",
      "Columna 6 = 785.4\n",
      "Columna 7 = 477.89\n",
      "Columna 8 = 565.25\n",
      "Columna 9 = 779.0\n",
      "Columna 10 = 1012.4399999999999\n"
     ]
    }
   ],
   "source": [
    "columnNumber = 1\n",
    "for column in data.T:\n",
    "    print('Columna ' + str(columnNumber) + ' = ' + str(np.var(column)))\n",
    "    columnNumber += 1"
   ]
  },
  {
   "cell_type": "markdown",
   "id": "ba3edc28",
   "metadata": {},
   "source": [
    "### Calculando mismos datos con pandas"
   ]
  },
  {
   "cell_type": "code",
   "execution_count": 13,
   "id": "d0e097ff",
   "metadata": {},
   "outputs": [
    {
     "data": {
      "text/html": [
       "<div>\n",
       "<style scoped>\n",
       "    .dataframe tbody tr th:only-of-type {\n",
       "        vertical-align: middle;\n",
       "    }\n",
       "\n",
       "    .dataframe tbody tr th {\n",
       "        vertical-align: top;\n",
       "    }\n",
       "\n",
       "    .dataframe thead th {\n",
       "        text-align: right;\n",
       "    }\n",
       "</style>\n",
       "<table border=\"1\" class=\"dataframe\">\n",
       "  <thead>\n",
       "    <tr style=\"text-align: right;\">\n",
       "      <th></th>\n",
       "      <th>c1</th>\n",
       "      <th>c2</th>\n",
       "      <th>c3</th>\n",
       "      <th>c4</th>\n",
       "      <th>c5</th>\n",
       "      <th>c6</th>\n",
       "      <th>c7</th>\n",
       "      <th>c8</th>\n",
       "      <th>c9</th>\n",
       "      <th>c10</th>\n",
       "    </tr>\n",
       "  </thead>\n",
       "  <tbody>\n",
       "    <tr>\n",
       "      <th>f1</th>\n",
       "      <td>2</td>\n",
       "      <td>3</td>\n",
       "      <td>48</td>\n",
       "      <td>59</td>\n",
       "      <td>89</td>\n",
       "      <td>79</td>\n",
       "      <td>71</td>\n",
       "      <td>80</td>\n",
       "      <td>19</td>\n",
       "      <td>22</td>\n",
       "    </tr>\n",
       "    <tr>\n",
       "      <th>f2</th>\n",
       "      <td>74</td>\n",
       "      <td>20</td>\n",
       "      <td>16</td>\n",
       "      <td>13</td>\n",
       "      <td>74</td>\n",
       "      <td>88</td>\n",
       "      <td>61</td>\n",
       "      <td>28</td>\n",
       "      <td>11</td>\n",
       "      <td>79</td>\n",
       "    </tr>\n",
       "    <tr>\n",
       "      <th>f3</th>\n",
       "      <td>86</td>\n",
       "      <td>91</td>\n",
       "      <td>91</td>\n",
       "      <td>80</td>\n",
       "      <td>43</td>\n",
       "      <td>6</td>\n",
       "      <td>83</td>\n",
       "      <td>59</td>\n",
       "      <td>100</td>\n",
       "      <td>98</td>\n",
       "    </tr>\n",
       "    <tr>\n",
       "      <th>f4</th>\n",
       "      <td>38</td>\n",
       "      <td>37</td>\n",
       "      <td>47</td>\n",
       "      <td>48</td>\n",
       "      <td>15</td>\n",
       "      <td>17</td>\n",
       "      <td>21</td>\n",
       "      <td>6</td>\n",
       "      <td>32</td>\n",
       "      <td>88</td>\n",
       "    </tr>\n",
       "    <tr>\n",
       "      <th>f5</th>\n",
       "      <td>14</td>\n",
       "      <td>18</td>\n",
       "      <td>54</td>\n",
       "      <td>39</td>\n",
       "      <td>47</td>\n",
       "      <td>48</td>\n",
       "      <td>33</td>\n",
       "      <td>59</td>\n",
       "      <td>63</td>\n",
       "      <td>49</td>\n",
       "    </tr>\n",
       "    <tr>\n",
       "      <th>f6</th>\n",
       "      <td>98</td>\n",
       "      <td>19</td>\n",
       "      <td>59</td>\n",
       "      <td>99</td>\n",
       "      <td>26</td>\n",
       "      <td>42</td>\n",
       "      <td>77</td>\n",
       "      <td>62</td>\n",
       "      <td>25</td>\n",
       "      <td>11</td>\n",
       "    </tr>\n",
       "    <tr>\n",
       "      <th>f7</th>\n",
       "      <td>42</td>\n",
       "      <td>25</td>\n",
       "      <td>16</td>\n",
       "      <td>66</td>\n",
       "      <td>6</td>\n",
       "      <td>76</td>\n",
       "      <td>84</td>\n",
       "      <td>20</td>\n",
       "      <td>11</td>\n",
       "      <td>95</td>\n",
       "    </tr>\n",
       "    <tr>\n",
       "      <th>f8</th>\n",
       "      <td>9</td>\n",
       "      <td>27</td>\n",
       "      <td>63</td>\n",
       "      <td>24</td>\n",
       "      <td>15</td>\n",
       "      <td>73</td>\n",
       "      <td>44</td>\n",
       "      <td>22</td>\n",
       "      <td>47</td>\n",
       "      <td>85</td>\n",
       "    </tr>\n",
       "    <tr>\n",
       "      <th>f9</th>\n",
       "      <td>58</td>\n",
       "      <td>37</td>\n",
       "      <td>94</td>\n",
       "      <td>24</td>\n",
       "      <td>99</td>\n",
       "      <td>70</td>\n",
       "      <td>39</td>\n",
       "      <td>46</td>\n",
       "      <td>29</td>\n",
       "      <td>100</td>\n",
       "    </tr>\n",
       "    <tr>\n",
       "      <th>f10</th>\n",
       "      <td>98</td>\n",
       "      <td>92</td>\n",
       "      <td>91</td>\n",
       "      <td>24</td>\n",
       "      <td>70</td>\n",
       "      <td>91</td>\n",
       "      <td>78</td>\n",
       "      <td>73</td>\n",
       "      <td>73</td>\n",
       "      <td>37</td>\n",
       "    </tr>\n",
       "  </tbody>\n",
       "</table>\n",
       "</div>"
      ],
      "text/plain": [
       "     c1  c2  c3  c4  c5  c6  c7  c8   c9  c10\n",
       "f1    2   3  48  59  89  79  71  80   19   22\n",
       "f2   74  20  16  13  74  88  61  28   11   79\n",
       "f3   86  91  91  80  43   6  83  59  100   98\n",
       "f4   38  37  47  48  15  17  21   6   32   88\n",
       "f5   14  18  54  39  47  48  33  59   63   49\n",
       "f6   98  19  59  99  26  42  77  62   25   11\n",
       "f7   42  25  16  66   6  76  84  20   11   95\n",
       "f8    9  27  63  24  15  73  44  22   47   85\n",
       "f9   58  37  94  24  99  70  39  46   29  100\n",
       "f10  98  92  91  24  70  91  78  73   73   37"
      ]
     },
     "execution_count": 13,
     "metadata": {},
     "output_type": "execute_result"
    }
   ],
   "source": [
    "import pandas as pd\n",
    "\n",
    "dataframe = pd.DataFrame(data, index=['f1', 'f2', 'f3','f4','f5','f6','f7','f8','f9','f10'], columns = ['c1', 'c2', 'c3', 'c4','c5','c6','c7','c8','c9','c10'])\n",
    "dataframe"
   ]
  },
  {
   "cell_type": "code",
   "execution_count": 14,
   "id": "96ad0031",
   "metadata": {},
   "outputs": [
    {
     "data": {
      "text/html": [
       "<div>\n",
       "<style scoped>\n",
       "    .dataframe tbody tr th:only-of-type {\n",
       "        vertical-align: middle;\n",
       "    }\n",
       "\n",
       "    .dataframe tbody tr th {\n",
       "        vertical-align: top;\n",
       "    }\n",
       "\n",
       "    .dataframe thead th {\n",
       "        text-align: right;\n",
       "    }\n",
       "</style>\n",
       "<table border=\"1\" class=\"dataframe\">\n",
       "  <thead>\n",
       "    <tr style=\"text-align: right;\">\n",
       "      <th></th>\n",
       "      <th>c1</th>\n",
       "      <th>c2</th>\n",
       "      <th>c3</th>\n",
       "      <th>c4</th>\n",
       "      <th>c5</th>\n",
       "      <th>c6</th>\n",
       "      <th>c7</th>\n",
       "      <th>c8</th>\n",
       "      <th>c9</th>\n",
       "      <th>c10</th>\n",
       "    </tr>\n",
       "  </thead>\n",
       "  <tbody>\n",
       "    <tr>\n",
       "      <th>count</th>\n",
       "      <td>10.00000</td>\n",
       "      <td>10.000000</td>\n",
       "      <td>10.000000</td>\n",
       "      <td>10.000000</td>\n",
       "      <td>10.000000</td>\n",
       "      <td>10.000000</td>\n",
       "      <td>10.000000</td>\n",
       "      <td>10.000000</td>\n",
       "      <td>10.000000</td>\n",
       "      <td>10.000000</td>\n",
       "    </tr>\n",
       "    <tr>\n",
       "      <th>mean</th>\n",
       "      <td>51.90000</td>\n",
       "      <td>36.900000</td>\n",
       "      <td>57.900000</td>\n",
       "      <td>47.600000</td>\n",
       "      <td>48.400000</td>\n",
       "      <td>59.000000</td>\n",
       "      <td>59.100000</td>\n",
       "      <td>45.500000</td>\n",
       "      <td>41.000000</td>\n",
       "      <td>66.400000</td>\n",
       "    </tr>\n",
       "    <tr>\n",
       "      <th>std</th>\n",
       "      <td>36.51012</td>\n",
       "      <td>30.395358</td>\n",
       "      <td>28.411461</td>\n",
       "      <td>28.091913</td>\n",
       "      <td>33.153515</td>\n",
       "      <td>29.540932</td>\n",
       "      <td>23.043196</td>\n",
       "      <td>25.061037</td>\n",
       "      <td>29.420326</td>\n",
       "      <td>33.540026</td>\n",
       "    </tr>\n",
       "    <tr>\n",
       "      <th>min</th>\n",
       "      <td>2.00000</td>\n",
       "      <td>3.000000</td>\n",
       "      <td>16.000000</td>\n",
       "      <td>13.000000</td>\n",
       "      <td>6.000000</td>\n",
       "      <td>6.000000</td>\n",
       "      <td>21.000000</td>\n",
       "      <td>6.000000</td>\n",
       "      <td>11.000000</td>\n",
       "      <td>11.000000</td>\n",
       "    </tr>\n",
       "    <tr>\n",
       "      <th>25%</th>\n",
       "      <td>20.00000</td>\n",
       "      <td>19.250000</td>\n",
       "      <td>47.250000</td>\n",
       "      <td>24.000000</td>\n",
       "      <td>17.750000</td>\n",
       "      <td>43.500000</td>\n",
       "      <td>40.250000</td>\n",
       "      <td>23.500000</td>\n",
       "      <td>20.500000</td>\n",
       "      <td>40.000000</td>\n",
       "    </tr>\n",
       "    <tr>\n",
       "      <th>50%</th>\n",
       "      <td>50.00000</td>\n",
       "      <td>26.000000</td>\n",
       "      <td>56.500000</td>\n",
       "      <td>43.500000</td>\n",
       "      <td>45.000000</td>\n",
       "      <td>71.500000</td>\n",
       "      <td>66.000000</td>\n",
       "      <td>52.500000</td>\n",
       "      <td>30.500000</td>\n",
       "      <td>82.000000</td>\n",
       "    </tr>\n",
       "    <tr>\n",
       "      <th>75%</th>\n",
       "      <td>83.00000</td>\n",
       "      <td>37.000000</td>\n",
       "      <td>84.000000</td>\n",
       "      <td>64.250000</td>\n",
       "      <td>73.000000</td>\n",
       "      <td>78.250000</td>\n",
       "      <td>77.750000</td>\n",
       "      <td>61.250000</td>\n",
       "      <td>59.000000</td>\n",
       "      <td>93.250000</td>\n",
       "    </tr>\n",
       "    <tr>\n",
       "      <th>max</th>\n",
       "      <td>98.00000</td>\n",
       "      <td>92.000000</td>\n",
       "      <td>94.000000</td>\n",
       "      <td>99.000000</td>\n",
       "      <td>99.000000</td>\n",
       "      <td>91.000000</td>\n",
       "      <td>84.000000</td>\n",
       "      <td>80.000000</td>\n",
       "      <td>100.000000</td>\n",
       "      <td>100.000000</td>\n",
       "    </tr>\n",
       "  </tbody>\n",
       "</table>\n",
       "</div>"
      ],
      "text/plain": [
       "             c1         c2         c3         c4         c5         c6  \\\n",
       "count  10.00000  10.000000  10.000000  10.000000  10.000000  10.000000   \n",
       "mean   51.90000  36.900000  57.900000  47.600000  48.400000  59.000000   \n",
       "std    36.51012  30.395358  28.411461  28.091913  33.153515  29.540932   \n",
       "min     2.00000   3.000000  16.000000  13.000000   6.000000   6.000000   \n",
       "25%    20.00000  19.250000  47.250000  24.000000  17.750000  43.500000   \n",
       "50%    50.00000  26.000000  56.500000  43.500000  45.000000  71.500000   \n",
       "75%    83.00000  37.000000  84.000000  64.250000  73.000000  78.250000   \n",
       "max    98.00000  92.000000  94.000000  99.000000  99.000000  91.000000   \n",
       "\n",
       "              c7         c8          c9         c10  \n",
       "count  10.000000  10.000000   10.000000   10.000000  \n",
       "mean   59.100000  45.500000   41.000000   66.400000  \n",
       "std    23.043196  25.061037   29.420326   33.540026  \n",
       "min    21.000000   6.000000   11.000000   11.000000  \n",
       "25%    40.250000  23.500000   20.500000   40.000000  \n",
       "50%    66.000000  52.500000   30.500000   82.000000  \n",
       "75%    77.750000  61.250000   59.000000   93.250000  \n",
       "max    84.000000  80.000000  100.000000  100.000000  "
      ]
     },
     "execution_count": 14,
     "metadata": {},
     "output_type": "execute_result"
    }
   ],
   "source": [
    "dataframe.describe()"
   ]
  },
  {
   "cell_type": "code",
   "execution_count": 15,
   "id": "1a73befb",
   "metadata": {},
   "outputs": [
    {
     "data": {
      "text/html": [
       "<div>\n",
       "<style scoped>\n",
       "    .dataframe tbody tr th:only-of-type {\n",
       "        vertical-align: middle;\n",
       "    }\n",
       "\n",
       "    .dataframe tbody tr th {\n",
       "        vertical-align: top;\n",
       "    }\n",
       "\n",
       "    .dataframe thead th {\n",
       "        text-align: right;\n",
       "    }\n",
       "</style>\n",
       "<table border=\"1\" class=\"dataframe\">\n",
       "  <thead>\n",
       "    <tr style=\"text-align: right;\">\n",
       "      <th></th>\n",
       "      <th>f1</th>\n",
       "      <th>f2</th>\n",
       "      <th>f3</th>\n",
       "      <th>f4</th>\n",
       "      <th>f5</th>\n",
       "      <th>f6</th>\n",
       "      <th>f7</th>\n",
       "      <th>f8</th>\n",
       "      <th>f9</th>\n",
       "      <th>f10</th>\n",
       "    </tr>\n",
       "  </thead>\n",
       "  <tbody>\n",
       "    <tr>\n",
       "      <th>count</th>\n",
       "      <td>10.00000</td>\n",
       "      <td>10.000000</td>\n",
       "      <td>10.000000</td>\n",
       "      <td>10.000000</td>\n",
       "      <td>10.000000</td>\n",
       "      <td>10.000000</td>\n",
       "      <td>10.000000</td>\n",
       "      <td>10.000000</td>\n",
       "      <td>10.000000</td>\n",
       "      <td>10.000000</td>\n",
       "    </tr>\n",
       "    <tr>\n",
       "      <th>mean</th>\n",
       "      <td>47.20000</td>\n",
       "      <td>46.400000</td>\n",
       "      <td>73.700000</td>\n",
       "      <td>34.900000</td>\n",
       "      <td>42.400000</td>\n",
       "      <td>51.800000</td>\n",
       "      <td>44.100000</td>\n",
       "      <td>40.900000</td>\n",
       "      <td>59.600000</td>\n",
       "      <td>72.700000</td>\n",
       "    </tr>\n",
       "    <tr>\n",
       "      <th>std</th>\n",
       "      <td>33.27929</td>\n",
       "      <td>31.373025</td>\n",
       "      <td>29.627502</td>\n",
       "      <td>23.344997</td>\n",
       "      <td>16.439789</td>\n",
       "      <td>32.272451</td>\n",
       "      <td>33.278121</td>\n",
       "      <td>25.894873</td>\n",
       "      <td>29.443732</td>\n",
       "      <td>24.413339</td>\n",
       "    </tr>\n",
       "    <tr>\n",
       "      <th>min</th>\n",
       "      <td>2.00000</td>\n",
       "      <td>11.000000</td>\n",
       "      <td>6.000000</td>\n",
       "      <td>6.000000</td>\n",
       "      <td>14.000000</td>\n",
       "      <td>11.000000</td>\n",
       "      <td>6.000000</td>\n",
       "      <td>9.000000</td>\n",
       "      <td>24.000000</td>\n",
       "      <td>24.000000</td>\n",
       "    </tr>\n",
       "    <tr>\n",
       "      <th>25%</th>\n",
       "      <td>19.75000</td>\n",
       "      <td>17.000000</td>\n",
       "      <td>64.250000</td>\n",
       "      <td>18.000000</td>\n",
       "      <td>34.500000</td>\n",
       "      <td>25.250000</td>\n",
       "      <td>17.000000</td>\n",
       "      <td>22.500000</td>\n",
       "      <td>37.500000</td>\n",
       "      <td>70.750000</td>\n",
       "    </tr>\n",
       "    <tr>\n",
       "      <th>50%</th>\n",
       "      <td>53.50000</td>\n",
       "      <td>44.500000</td>\n",
       "      <td>84.500000</td>\n",
       "      <td>34.500000</td>\n",
       "      <td>47.500000</td>\n",
       "      <td>50.500000</td>\n",
       "      <td>33.500000</td>\n",
       "      <td>35.500000</td>\n",
       "      <td>52.000000</td>\n",
       "      <td>75.500000</td>\n",
       "    </tr>\n",
       "    <tr>\n",
       "      <th>75%</th>\n",
       "      <td>77.00000</td>\n",
       "      <td>74.000000</td>\n",
       "      <td>91.000000</td>\n",
       "      <td>44.750000</td>\n",
       "      <td>52.750000</td>\n",
       "      <td>73.250000</td>\n",
       "      <td>73.500000</td>\n",
       "      <td>59.000000</td>\n",
       "      <td>88.000000</td>\n",
       "      <td>91.000000</td>\n",
       "    </tr>\n",
       "    <tr>\n",
       "      <th>max</th>\n",
       "      <td>89.00000</td>\n",
       "      <td>88.000000</td>\n",
       "      <td>100.000000</td>\n",
       "      <td>88.000000</td>\n",
       "      <td>63.000000</td>\n",
       "      <td>99.000000</td>\n",
       "      <td>95.000000</td>\n",
       "      <td>85.000000</td>\n",
       "      <td>100.000000</td>\n",
       "      <td>98.000000</td>\n",
       "    </tr>\n",
       "  </tbody>\n",
       "</table>\n",
       "</div>"
      ],
      "text/plain": [
       "             f1         f2          f3         f4         f5         f6  \\\n",
       "count  10.00000  10.000000   10.000000  10.000000  10.000000  10.000000   \n",
       "mean   47.20000  46.400000   73.700000  34.900000  42.400000  51.800000   \n",
       "std    33.27929  31.373025   29.627502  23.344997  16.439789  32.272451   \n",
       "min     2.00000  11.000000    6.000000   6.000000  14.000000  11.000000   \n",
       "25%    19.75000  17.000000   64.250000  18.000000  34.500000  25.250000   \n",
       "50%    53.50000  44.500000   84.500000  34.500000  47.500000  50.500000   \n",
       "75%    77.00000  74.000000   91.000000  44.750000  52.750000  73.250000   \n",
       "max    89.00000  88.000000  100.000000  88.000000  63.000000  99.000000   \n",
       "\n",
       "              f7         f8          f9        f10  \n",
       "count  10.000000  10.000000   10.000000  10.000000  \n",
       "mean   44.100000  40.900000   59.600000  72.700000  \n",
       "std    33.278121  25.894873   29.443732  24.413339  \n",
       "min     6.000000   9.000000   24.000000  24.000000  \n",
       "25%    17.000000  22.500000   37.500000  70.750000  \n",
       "50%    33.500000  35.500000   52.000000  75.500000  \n",
       "75%    73.500000  59.000000   88.000000  91.000000  \n",
       "max    95.000000  85.000000  100.000000  98.000000  "
      ]
     },
     "execution_count": 15,
     "metadata": {},
     "output_type": "execute_result"
    }
   ],
   "source": [
    "dataframe.T.describe()"
   ]
  },
  {
   "cell_type": "markdown",
   "id": "0e093ebd",
   "metadata": {},
   "source": [
    "### ¿Son coherentes los datos entre Numpy y Pandas?"
   ]
  },
  {
   "cell_type": "raw",
   "id": "725ecde8",
   "metadata": {},
   "source": [
    "Aparentemente no, las medias parecen mantenerse; sin embargo, las desviaciones estándar se ven afectadas, por lo tanto las varianzas tampoco serán las mismas. Esto se debe a que Pandas usa estimación imparcial (https://es.wikipedia.org/wiki/Estimaci%C3%B3n_de_la_desviaci%C3%B3n_est%C3%A1ndar_no_sesgada) mientras que Numpy por defecto no lo hace, para que los resultados sean los mismos se le debe pasar de argumento ddof=1 a np.std()"
   ]
  },
  {
   "cell_type": "code",
   "execution_count": 16,
   "id": "e2e5d7b6",
   "metadata": {},
   "outputs": [
    {
     "name": "stdout",
     "output_type": "stream",
     "text": [
      "Fila 1 = 33.27928952233072\n",
      "Fila 2 = 31.37302450620065\n",
      "Fila 3 = 29.62750223844205\n",
      "Fila 4 = 23.344997084790755\n",
      "Fila 5 = 16.439789130845526\n",
      "Fila 6 = 32.27245127211615\n",
      "Fila 7 = 33.2781209405419\n",
      "Fila 8 = 25.894872937406827\n",
      "Fila 9 = 29.443731647556724\n",
      "Fila 10 = 24.413338794829173\n"
     ]
    }
   ],
   "source": [
    "rowNumber = 1\n",
    "for row in data:\n",
    "    print('Fila ' + str(rowNumber) + ' = ' + str(np.std(row, ddof=1)))\n",
    "    rowNumber += 1"
   ]
  },
  {
   "cell_type": "code",
   "execution_count": 17,
   "id": "ce71e18f",
   "metadata": {},
   "outputs": [
    {
     "name": "stdout",
     "output_type": "stream",
     "text": [
      "Columna 1 = 36.510120362563704\n",
      "Columna 2 = 30.395357832698362\n",
      "Columna 3 = 28.411460911243392\n",
      "Columna 4 = 28.091912636122796\n",
      "Columna 5 = 33.15351498039922\n",
      "Columna 6 = 29.540932054806035\n",
      "Columna 7 = 23.043196151768722\n",
      "Columna 8 = 25.061036601775985\n",
      "Columna 9 = 29.420325551488304\n",
      "Columna 10 = 33.540025839783326\n"
     ]
    }
   ],
   "source": [
    "columnNumber = 1\n",
    "for column in data.T:\n",
    "    print('Columna ' + str(columnNumber) + ' = ' + str(np.std(column, ddof=1)))\n",
    "    columnNumber += 1"
   ]
  },
  {
   "cell_type": "raw",
   "id": "3feab63b",
   "metadata": {},
   "source": [
    "Tal parece que ahora las desviaciones estándar se comportan de la misma manera en Numpy que en Pandas."
   ]
  },
  {
   "cell_type": "markdown",
   "id": "7a856d1b",
   "metadata": {},
   "source": [
    "# REDES DE BAYES"
   ]
  },
  {
   "cell_type": "code",
   "execution_count": 18,
   "id": "1135183c",
   "metadata": {},
   "outputs": [
    {
     "data": {
      "image/png": "[encoded data removed]",
      "text/plain": [
       "<IPython.core.display.Image object>"
      ]
     },
     "execution_count": 18,
     "metadata": {},
     "output_type": "execute_result"
    }
   ],
   "source": [
    "from IPython.display import Image\n",
    "Image(\"img/bayesNetword.png\")"
   ]
  },
  {
   "cell_type": "code",
   "execution_count": 19,
   "id": "78e3fbaf",
   "metadata": {},
   "outputs": [],
   "source": [
    "import pyAgrum as gum"
   ]
  },
  {
   "cell_type": "code",
   "execution_count": 20,
   "id": "e03e857e",
   "metadata": {},
   "outputs": [],
   "source": [
    "bn = gum.BayesNet()\n",
    "b,e,a,j,m = [bn.add(name, 2) for name in \"beajm\"]"
   ]
  },
  {
   "cell_type": "code",
   "execution_count": 21,
   "id": "0718628a",
   "metadata": {},
   "outputs": [],
   "source": [
    "bn.addArc(b,a)\n",
    "bn.addArc(e,a)\n",
    "bn.addArc(a,j)\n",
    "bn.addArc(a,m)"
   ]
  },
  {
   "cell_type": "code",
   "execution_count": 22,
   "id": "26d59d1c",
   "metadata": {},
   "outputs": [
    {
     "name": "stdout",
     "output_type": "stream",
     "text": [
      "0 1 2 3 4\n",
      "BN{nodes: 5, arcs: 4, domainSize: 32, dim: 20}\n"
     ]
    }
   ],
   "source": [
    "print(b,e,a,j,m)\n",
    "print(bn)"
   ]
  },
  {
   "cell_type": "code",
   "execution_count": 23,
   "id": "87c0231e",
   "metadata": {},
   "outputs": [
    {
     "data": {
      "text/html": [
       "<svg xmlns=\"http://www.w3.org/2000/svg\" xmlns:xlink=\"http://www.w3.org/1999/xlink\" width=\"134pt\" height=\"188pt\" viewBox=\"0.00 0.00 134.00 188.00\">\n",
       "<g id=\"graph0\" class=\"graph\" transform=\"scale(1 1) rotate(0) translate(4 184)\">\n",
       "<title>G</title>\n",
       "<!-- m -->\n",
       "<g id=\"node1\" class=\"node\">\n",
       "<title>m</title>\n",
       "<g id=\"a_node1\"><a xlink:title=\"(4) m\">\n",
       "<ellipse fill=\"#404040\" stroke=\"black\" cx=\"27\" cy=\"-18\" rx=\"27\" ry=\"18\"/>\n",
       "<text text-anchor=\"middle\" x=\"27\" y=\"-14.3\" font-family=\"Times New Roman,serif\" font-size=\"14.00\" fill=\"white\">m</text>\n",
       "</a>\n",
       "</g>\n",
       "</g>\n",
       "<!-- b -->\n",
       "<g id=\"node2\" class=\"node\">\n",
       "<title>b</title>\n",
       "<g id=\"a_node2\"><a xlink:title=\"(0) b\">\n",
       "<ellipse fill=\"#404040\" stroke=\"black\" cx=\"27\" cy=\"-162\" rx=\"27\" ry=\"18\"/>\n",
       "<text text-anchor=\"middle\" x=\"27\" y=\"-158.3\" font-family=\"Times New Roman,serif\" font-size=\"14.00\" fill=\"white\">b</text>\n",
       "</a>\n",
       "</g>\n",
       "</g>\n",
       "<!-- a -->\n",
       "<g id=\"node5\" class=\"node\">\n",
       "<title>a</title>\n",
       "<g id=\"a_node5\"><a xlink:title=\"(2) a\">\n",
       "<ellipse fill=\"#404040\" stroke=\"black\" cx=\"63\" cy=\"-90\" rx=\"27\" ry=\"18\"/>\n",
       "<text text-anchor=\"middle\" x=\"63\" y=\"-86.3\" font-family=\"Times New Roman,serif\" font-size=\"14.00\" fill=\"white\">a</text>\n",
       "</a>\n",
       "</g>\n",
       "</g>\n",
       "<!-- b&#45;&gt;a -->\n",
       "<g id=\"edge2\" class=\"edge\">\n",
       "<title>b-&gt;a</title>\n",
       "<g id=\"a_edge2\"><a xlink:title=\"(0, 2) : \">\n",
       "<path fill=\"none\" stroke=\"#4a4a4a\" d=\"M35.35,-144.76C39.71,-136.28 45.15,-125.71 50.04,-116.2\"/>\n",
       "<polygon fill=\"#4a4a4a\" stroke=\"#4a4a4a\" points=\"53.23,-117.64 54.7,-107.15 47.01,-114.44 53.23,-117.64\"/>\n",
       "</a>\n",
       "</g>\n",
       "</g>\n",
       "<!-- e -->\n",
       "<g id=\"node3\" class=\"node\">\n",
       "<title>e</title>\n",
       "<g id=\"a_node3\"><a xlink:title=\"(1) e\">\n",
       "<ellipse fill=\"#404040\" stroke=\"black\" cx=\"99\" cy=\"-162\" rx=\"27\" ry=\"18\"/>\n",
       "<text text-anchor=\"middle\" x=\"99\" y=\"-158.3\" font-family=\"Times New Roman,serif\" font-size=\"14.00\" fill=\"white\">e</text>\n",
       "</a>\n",
       "</g>\n",
       "</g>\n",
       "<!-- e&#45;&gt;a -->\n",
       "<g id=\"edge3\" class=\"edge\">\n",
       "<title>e-&gt;a</title>\n",
       "<g id=\"a_edge3\"><a xlink:title=\"(1, 2) : \">\n",
       "<path fill=\"none\" stroke=\"#4a4a4a\" d=\"M90.65,-144.76C86.29,-136.28 80.85,-125.71 75.96,-116.2\"/>\n",
       "<polygon fill=\"#4a4a4a\" stroke=\"#4a4a4a\" points=\"78.99,-114.44 71.3,-107.15 72.77,-117.64 78.99,-114.44\"/>\n",
       "</a>\n",
       "</g>\n",
       "</g>\n",
       "<!-- j -->\n",
       "<g id=\"node4\" class=\"node\">\n",
       "<title>j</title>\n",
       "<g id=\"a_node4\"><a xlink:title=\"(3) j\">\n",
       "<ellipse fill=\"#404040\" stroke=\"black\" cx=\"99\" cy=\"-18\" rx=\"27\" ry=\"18\"/>\n",
       "<text text-anchor=\"middle\" x=\"99\" y=\"-14.3\" font-family=\"Times New Roman,serif\" font-size=\"14.00\" fill=\"white\">j</text>\n",
       "</a>\n",
       "</g>\n",
       "</g>\n",
       "<!-- a&#45;&gt;m -->\n",
       "<g id=\"edge4\" class=\"edge\">\n",
       "<title>a-&gt;m</title>\n",
       "<g id=\"a_edge4\"><a xlink:title=\"(2, 4) : \">\n",
       "<path fill=\"none\" stroke=\"#4a4a4a\" d=\"M54.65,-72.76C50.29,-64.28 44.85,-53.71 39.96,-44.2\"/>\n",
       "<polygon fill=\"#4a4a4a\" stroke=\"#4a4a4a\" points=\"42.99,-42.44 35.3,-35.15 36.77,-45.64 42.99,-42.44\"/>\n",
       "</a>\n",
       "</g>\n",
       "</g>\n",
       "<!-- a&#45;&gt;j -->\n",
       "<g id=\"edge1\" class=\"edge\">\n",
       "<title>a-&gt;j</title>\n",
       "<g id=\"a_edge1\"><a xlink:title=\"(2, 3) : \">\n",
       "<path fill=\"none\" stroke=\"#4a4a4a\" d=\"M71.35,-72.76C75.71,-64.28 81.15,-53.71 86.04,-44.2\"/>\n",
       "<polygon fill=\"#4a4a4a\" stroke=\"#4a4a4a\" points=\"89.23,-45.64 90.7,-35.15 83.01,-42.44 89.23,-45.64\"/>\n",
       "</a>\n",
       "</g>\n",
       "</g>\n",
       "</g>\n",
       "</svg>"
      ],
      "text/plain": [
       "(gum::BayesNet<double>@00000192B4FCB030) BN{nodes: 5, arcs: 4, domainSize: 32, dim: 20}"
      ]
     },
     "execution_count": 23,
     "metadata": {},
     "output_type": "execute_result"
    }
   ],
   "source": [
    "import pyAgrum.lib.notebook as gnb\n",
    "bn"
   ]
  },
  {
   "cell_type": "code",
   "execution_count": 24,
   "id": "5bb424ae",
   "metadata": {},
   "outputs": [
    {
     "data": {
      "text/html": [
       "<table style=\"border:1px solid black;\">\n",
       "<tr style='border:1px solid black;color:black;background-color:#808080'><th colspan='2'><center>b</center></th></tr>\n",
       "<tr><th style='border:1px solid black;border-bottom-style: double;color:black;background-color:#BBBBBB'><center>0</center></th><th style='border:1px solid black;border-bottom-style: double;color:black;background-color:#BBBBBB'><center>1</center></th></tr>\n",
       "<tr><td style='color:black;background-color:#7ffe64;text-align:right;'>0.9990</td><td style='color:black;background-color:#fe7f64;text-align:right;'>0.0010</td></tr>\n",
       "</table>"
      ],
      "text/plain": [
       "(gum::Potential<double>@00000192C4128930) \n",
       "  b                |\n",
       "0        |1        |\n",
       "---------|---------|\n",
       " 0.9990  | 0.0010  |"
      ]
     },
     "execution_count": 24,
     "metadata": {},
     "output_type": "execute_result"
    }
   ],
   "source": [
    "bn.cpt(b).fillWith([0.999,0.001])"
   ]
  },
  {
   "cell_type": "code",
   "execution_count": 25,
   "id": "fb40af2f",
   "metadata": {},
   "outputs": [
    {
     "data": {
      "text/html": [
       "<table style=\"border:1px solid black;\">\n",
       "<tr style='border:1px solid black;color:black;background-color:#808080'><th colspan='2'><center>e</center></th></tr>\n",
       "<tr><th style='border:1px solid black;border-bottom-style: double;color:black;background-color:#BBBBBB'><center>0</center></th><th style='border:1px solid black;border-bottom-style: double;color:black;background-color:#BBBBBB'><center>1</center></th></tr>\n",
       "<tr><td style='color:black;background-color:#7ffe64;text-align:right;'>0.9980</td><td style='color:black;background-color:#fe7f64;text-align:right;'>0.0020</td></tr>\n",
       "</table>"
      ],
      "text/plain": [
       "(gum::Potential<double>@00000192C4128750) \n",
       "  e                |\n",
       "0        |1        |\n",
       "---------|---------|\n",
       " 0.9980  | 0.0020  |"
      ]
     },
     "execution_count": 25,
     "metadata": {},
     "output_type": "execute_result"
    }
   ],
   "source": [
    "bn.cpt(e).fillWith([0.998,0.002])"
   ]
  },
  {
   "cell_type": "code",
   "execution_count": 26,
   "id": "bda2e39a",
   "metadata": {},
   "outputs": [
    {
     "data": {
      "text/html": [
       "<table style=\"border:1px solid black;\">\n",
       "<tr><th colspan='2'></th><th colspan='2' style='border:1px solid black;color:black;background-color:#808080;'><center>a</center></th></tr>\n",
       "<tr><th style='border:1px solid black;color:black;background-color:#808080'><center>e</center></th><th style='border:1px solid black;color:black;background-color:#808080'><center>b</center></th><th style='border:1px solid black;border-bottom-style: double;color:black;background-color:#BBBBBB'><center>0</center></th><th style='border:1px solid black;border-bottom-style: double;color:black;background-color:#BBBBBB'><center>1</center></th></tr>\n",
       "<tr><th style='border:1px solid black;color:black;background-color:#BBBBBB;' rowspan = '2'><center>0</center></th><th style='border:1px solid black;color:black;background-color:#BBBBBB'><center>0</center></th><td style='color:black;background-color:#7ffe64;text-align:right;'>0.9990</td><td style='color:black;background-color:#fe7f64;text-align:right;'>0.0010</td></tr>\n",
       "<tr><th style='border:1px solid black;color:black;background-color:#BBBBBB'><center>1</center></th><td style='color:black;background-color:#f78664;text-align:right;'>0.0600</td><td style='color:black;background-color:#86f764;text-align:right;'>0.9400</td></tr>\n",
       "<tr><th style='border:1px solid black;color:black;background-color:#BBBBBB;' rowspan = '2'><center>1</center></th><th style='border:1px solid black;color:black;background-color:#BBBBBB'><center>0</center></th><td style='color:black;background-color:#a4d964;text-align:right;'>0.7100</td><td style='color:black;background-color:#d9a464;text-align:right;'>0.2900</td></tr>\n",
       "<tr><th style='border:1px solid black;color:black;background-color:#BBBBBB'><center>1</center></th><td style='color:black;background-color:#f88564;text-align:right;'>0.0500</td><td style='color:black;background-color:#85f864;text-align:right;'>0.9500</td></tr>\n",
       "</table>"
      ],
      "text/plain": [
       "(gum::Potential<double>@00000192C41289F0) \n",
       "             ||  a                |\n",
       "b     |e     ||0        |1        |\n",
       "------|------||---------|---------|\n",
       "0     |0     || 0.9990  | 0.0010  |\n",
       "1     |0     || 0.0600  | 0.9400  |\n",
       "0     |1     || 0.7100  | 0.2900  |\n",
       "1     |1     || 0.0500  | 0.9500  |"
      ]
     },
     "execution_count": 26,
     "metadata": {},
     "output_type": "execute_result"
    }
   ],
   "source": [
    "bn.cpt(a)[{'b': 1, 'e': 1}] = [0.05, 0.95]\n",
    "bn.cpt(a)[{'b': 1, 'e': 0}] = [0.06, 0.94]\n",
    "bn.cpt(a)[{'b': 0, 'e': 1}] = [0.71, 0.29]\n",
    "bn.cpt(a)[{'b': 0, 'e': 0}] = [0.999, 0.001]\n",
    "bn.cpt(a)"
   ]
  },
  {
   "cell_type": "code",
   "execution_count": 27,
   "id": "86cbf42b",
   "metadata": {},
   "outputs": [
    {
     "data": {
      "text/html": [
       "<table style=\"border:1px solid black;\">\n",
       "<tr><th colspan='1'></th><th colspan='2' style='border:1px solid black;color:black;background-color:#808080;'><center>j</center></th></tr>\n",
       "<tr><th style='border:1px solid black;color:black;background-color:#808080'><center>a</center></th><th style='border:1px solid black;border-bottom-style: double;color:black;background-color:#BBBBBB'><center>0</center></th><th style='border:1px solid black;border-bottom-style: double;color:black;background-color:#BBBBBB'><center>1</center></th></tr>\n",
       "<tr><th style='border:1px solid black;color:black;background-color:#BBBBBB'><center>0</center></th><td style='color:black;background-color:#85f864;text-align:right;'>0.9500</td><td style='color:black;background-color:#f88564;text-align:right;'>0.0500</td></tr>\n",
       "<tr><th style='border:1px solid black;color:black;background-color:#BBBBBB'><center>1</center></th><td style='color:black;background-color:#f28b64;text-align:right;'>0.1000</td><td style='color:black;background-color:#8bf264;text-align:right;'>0.9000</td></tr>\n",
       "</table>"
      ],
      "text/plain": [
       "(gum::Potential<double>@00000192C4128C90) \n",
       "      ||  j                |\n",
       "a     ||0        |1        |\n",
       "------||---------|---------|\n",
       "0     || 0.9500  | 0.0500  |\n",
       "1     || 0.1000  | 0.9000  |"
      ]
     },
     "execution_count": 27,
     "metadata": {},
     "output_type": "execute_result"
    }
   ],
   "source": [
    "bn.cpt(j)[{'a': 1}] = [0.1, 0.9]\n",
    "bn.cpt(j)[{'a': 0}] = [0.95, 0.05]\n",
    "bn.cpt(j)"
   ]
  },
  {
   "cell_type": "code",
   "execution_count": 28,
   "id": "a52ccda9",
   "metadata": {},
   "outputs": [
    {
     "data": {
      "text/html": [
       "<table style=\"border:1px solid black;\">\n",
       "<tr><th colspan='1'></th><th colspan='2' style='border:1px solid black;color:black;background-color:#808080;'><center>m</center></th></tr>\n",
       "<tr><th style='border:1px solid black;color:black;background-color:#808080'><center>a</center></th><th style='border:1px solid black;border-bottom-style: double;color:black;background-color:#BBBBBB'><center>0</center></th><th style='border:1px solid black;border-bottom-style: double;color:black;background-color:#BBBBBB'><center>1</center></th></tr>\n",
       "<tr><th style='border:1px solid black;color:black;background-color:#BBBBBB'><center>0</center></th><td style='color:black;background-color:#80fd64;text-align:right;'>0.9900</td><td style='color:black;background-color:#fd8064;text-align:right;'>0.0100</td></tr>\n",
       "<tr><th style='border:1px solid black;color:black;background-color:#BBBBBB'><center>1</center></th><td style='color:black;background-color:#d8a564;text-align:right;'>0.3000</td><td style='color:black;background-color:#a5d864;text-align:right;'>0.7000</td></tr>\n",
       "</table>"
      ],
      "text/plain": [
       "(gum::Potential<double>@00000192C4128A30) \n",
       "      ||  m                |\n",
       "a     ||0        |1        |\n",
       "------||---------|---------|\n",
       "0     || 0.9900  | 0.0100  |\n",
       "1     || 0.3000  | 0.7000  |"
      ]
     },
     "execution_count": 28,
     "metadata": {},
     "output_type": "execute_result"
    }
   ],
   "source": [
    "bn.cpt(m)[{'a': 1}] = [0.3, 0.7]\n",
    "bn.cpt(m)[{'a': 0}] = [0.99, 0.01]\n",
    "bn.cpt(m)"
   ]
  },
  {
   "cell_type": "markdown",
   "id": "5e180b16",
   "metadata": {},
   "source": [
    "$P(m)$"
   ]
  },
  {
   "cell_type": "code",
   "execution_count": 29,
   "id": "c7b124c4",
   "metadata": {},
   "outputs": [
    {
     "data": {
      "text/html": [
       "<table style=\"border:1px solid black;\">\n",
       "<tr style='border:1px solid black;color:black;background-color:#808080'><th colspan='2'><center>m</center></th></tr>\n",
       "<tr><th style='border:1px solid black;border-bottom-style: double;color:black;background-color:#BBBBBB'><center>0</center></th><th style='border:1px solid black;border-bottom-style: double;color:black;background-color:#BBBBBB'><center>1</center></th></tr>\n",
       "<tr><td style='color:black;background-color:#80fd64;text-align:right;'>0.9883</td><td style='color:black;background-color:#fd8064;text-align:right;'>0.0117</td></tr>\n",
       "</table>"
      ],
      "text/plain": [
       "(gum::Potential<double>@00000192B4C3C100) \n",
       "  m                |\n",
       "0        |1        |\n",
       "---------|---------|\n",
       " 0.9883  | 0.0117  |"
      ]
     },
     "execution_count": 29,
     "metadata": {},
     "output_type": "execute_result"
    }
   ],
   "source": [
    "ie = gum.LazyPropagation(bn)\n",
    "ie.makeInference()\n",
    "ie.posterior(m)\n"
   ]
  },
  {
   "cell_type": "code",
   "execution_count": 31,
   "id": "adcb12c3",
   "metadata": {},
   "outputs": [
    {
     "data": {
      "image/svg+xml": [
       "<svg xmlns=\"http://www.w3.org/2000/svg\" xmlns:xlink=\"http://www.w3.org/1999/xlink\" width=\"182pt\" height=\"227pt\" viewBox=\"0.00 0.00 181.50 227.00\">\n",
       "<g id=\"graph0\" class=\"graph\" transform=\"scale(1 1) rotate(0) translate(4 223)\">\n",
       "<title>structs</title>\n",
       "<text text-anchor=\"middle\" x=\"86.75\" y=\"-7.8\" font-family=\"Times New Roman,serif\" font-size=\"14.00\" fill=\"#4a4a4a\">Inference in   1.00ms</text>\n",
       "<!-- b -->\n",
       "<g id=\"node1\" class=\"node\">\n",
       "<title>b</title>\n",
       "<ellipse fill=\"#404040\" stroke=\"#000000\" cx=\"39\" cy=\"-201\" rx=\"27\" ry=\"18\"/>\n",
       "<text text-anchor=\"middle\" x=\"39\" y=\"-197.3\" font-family=\"Times New Roman,serif\" font-size=\"14.00\" fill=\"white\">b</text>\n",
       "</g>\n",
       "<!-- a -->\n",
       "<g id=\"node3\" class=\"node\">\n",
       "<title>a</title>\n",
       "<ellipse fill=\"#404040\" stroke=\"#000000\" cx=\"75\" cy=\"-129\" rx=\"27\" ry=\"18\"/>\n",
       "<text text-anchor=\"middle\" x=\"75\" y=\"-125.3\" font-family=\"Times New Roman,serif\" font-size=\"14.00\" fill=\"white\">a</text>\n",
       "</g>\n",
       "<!-- b&#45;&gt;a -->\n",
       "<g id=\"edge2\" class=\"edge\">\n",
       "<title>b-&gt;a</title>\n",
       "<g id=\"a_edge2\"><a xlink:title=\"(0, 2):\">\n",
       "<path fill=\"none\" stroke=\"#4a4a4a\" d=\"M47.35,-183.76C51.71,-175.28 57.15,-164.71 62.04,-155.2\"/>\n",
       "<polygon fill=\"#4a4a4a\" stroke=\"#4a4a4a\" points=\"65.23,-156.64 66.7,-146.15 59.01,-153.44 65.23,-156.64\"/>\n",
       "</a>\n",
       "</g>\n",
       "</g>\n",
       "<!-- e -->\n",
       "<g id=\"node2\" class=\"node\">\n",
       "<title>e</title>\n",
       "<ellipse fill=\"#404040\" stroke=\"#000000\" cx=\"111\" cy=\"-201\" rx=\"27\" ry=\"18\"/>\n",
       "<text text-anchor=\"middle\" x=\"111\" y=\"-197.3\" font-family=\"Times New Roman,serif\" font-size=\"14.00\" fill=\"white\">e</text>\n",
       "</g>\n",
       "<!-- e&#45;&gt;a -->\n",
       "<g id=\"edge3\" class=\"edge\">\n",
       "<title>e-&gt;a</title>\n",
       "<g id=\"a_edge3\"><a xlink:title=\"(1, 2):\">\n",
       "<path fill=\"none\" stroke=\"#4a4a4a\" d=\"M102.65,-183.76C98.29,-175.28 92.85,-164.71 87.96,-155.2\"/>\n",
       "<polygon fill=\"#4a4a4a\" stroke=\"#4a4a4a\" points=\"90.99,-153.44 83.3,-146.15 84.77,-156.64 90.99,-153.44\"/>\n",
       "</a>\n",
       "</g>\n",
       "</g>\n",
       "<!-- j -->\n",
       "<g id=\"node4\" class=\"node\">\n",
       "<title>j</title>\n",
       "<ellipse fill=\"#404040\" stroke=\"#000000\" cx=\"27\" cy=\"-49\" rx=\"27\" ry=\"18\"/>\n",
       "<text text-anchor=\"middle\" x=\"27\" y=\"-45.3\" font-family=\"Times New Roman,serif\" font-size=\"14.00\" fill=\"white\">j</text>\n",
       "</g>\n",
       "<!-- a&#45;&gt;j -->\n",
       "<g id=\"edge1\" class=\"edge\">\n",
       "<title>a-&gt;j</title>\n",
       "<g id=\"a_edge1\"><a xlink:title=\"(2, 3):\">\n",
       "<path fill=\"none\" stroke=\"#4a4a4a\" d=\"M65.05,-111.84C58.45,-101.1 49.64,-86.79 42.17,-74.65\"/>\n",
       "<polygon fill=\"#4a4a4a\" stroke=\"#4a4a4a\" points=\"44.99,-72.56 36.77,-65.87 39.03,-76.23 44.99,-72.56\"/>\n",
       "</a>\n",
       "</g>\n",
       "</g>\n",
       "<!-- m -->\n",
       "<g id=\"node5\" class=\"node\">\n",
       "<title>m</title>\n",
       "<polygon fill=\"#e0e0e0\" stroke=\"#000000\" points=\"173.5,-75 72.5,-75 72.5,-23 173.5,-23 173.5,-75\"/>\n",
       "<svg viewBox=\"0 0 132.1625 66.4355\" width=\"101px\" height=\"52px\" preserveAspectRatio=\"xMinYMin meet\" x=\"72.5\" y=\"-75\"> <metadata>\n",
       "  <rdf:RDF xmlns:cc=\"http://creativecommons.org/ns#\" xmlns:dc=\"http://purl.org/dc/elements/1.1/\" xmlns:rdf=\"http://www.w3.org/1999/02/22-rdf-syntax-ns#\">\n",
       "   <cc:Work>\n",
       "    <dc:type rdf:resource=\"http://purl.org/dc/dcmitype/StillImage\"/>\n",
       "    <dc:date>2021-04-11T23:23:55.156258</dc:date>\n",
       "    <dc:format>image/svg+xml</dc:format>\n",
       "    <dc:creator>\n",
       "     <cc:Agent>\n",
       "      <dc:title>Matplotlib v3.4.1, https://matplotlib.org/</dc:title>\n",
       "     </cc:Agent>\n",
       "    </dc:creator>\n",
       "   </cc:Work>\n",
       "  </rdf:RDF>\n",
       " </metadata>\n",
       " <defs>\n",
       "  <style type=\"text/css\">*{stroke-linecap:butt;stroke-linejoin:round;}</style>\n",
       " </defs>\n",
       " <g id=\"figure_1\">\n",
       "  <g id=\"patch_1\">\n",
       "   <path d=\"M 0 66.4355  L 132.1625 66.4355  L 132.1625 0  L 0 0  z \" style=\"fill:#e0e0e0;\"/>\n",
       "  </g>\n",
       "  <g id=\"axes_1\">\n",
       "   <g id=\"patch_2\">\n",
       "    <path d=\"M 16.9625 59.3355  L 128.5625 59.3355  L 128.5625 32.1555  L 16.9625 32.1555  z \" style=\"fill:#ffffff;\"/>\n",
       "   </g>\n",
       "   <g id=\"patch_3\">\n",
       "    <path clip-path=\"url(#peecd1ba6c1)\" d=\"M 16.9625 59.3355  L 18.272276 59.3355  L 18.272276 47.2555  L 16.9625 47.2555  z \" style=\"fill:#8fbc8f;\"/>\n",
       "   </g>\n",
       "   <g id=\"patch_4\">\n",
       "    <path clip-path=\"url(#peecd1ba6c1)\" d=\"M 16.9625 44.2355  L 127.252724 44.2355  L 127.252724 32.1555  L 16.9625 32.1555  z \" style=\"fill:#8fbc8f;\"/>\n",
       "   </g>\n",
       "   <g id=\"matplotlib.axis_1\">\n",
       "    <g id=\"xtick_1\">\n",
       "     <g id=\"line2d_1\">\n",
       "      <path clip-path=\"url(#peecd1ba6c1)\" d=\"M 16.9625 59.3355  L 16.9625 32.1555  \" style=\"fill:none;stroke:#b0b0b0;stroke-linecap:square;stroke-width:0.8;\"/>\n",
       "     </g>\n",
       "     <g id=\"line2d_2\">\n",
       "      <defs>\n",
       "       <path d=\"M 0 0  L 0 3.5  \" id=\"mdbf95f68cb\" style=\"stroke:#000000;stroke-width:0.8;\"/>\n",
       "      </defs>\n",
       "      <g>\n",
       "       <use style=\"stroke:#000000;stroke-width:0.8;\" x=\"16.9625\" xlink:href=\"#mdbf95f68cb\" y=\"59.3355\"/>\n",
       "      </g>\n",
       "     </g>\n",
       "    </g>\n",
       "    <g id=\"xtick_2\">\n",
       "     <g id=\"line2d_3\">\n",
       "      <path clip-path=\"url(#peecd1ba6c1)\" d=\"M 72.7625 59.3355  L 72.7625 32.1555  \" style=\"fill:none;stroke:#b0b0b0;stroke-linecap:square;stroke-width:0.8;\"/>\n",
       "     </g>\n",
       "     <g id=\"line2d_4\">\n",
       "      <g>\n",
       "       <use style=\"stroke:#000000;stroke-width:0.8;\" x=\"72.7625\" xlink:href=\"#mdbf95f68cb\" y=\"59.3355\"/>\n",
       "      </g>\n",
       "     </g>\n",
       "    </g>\n",
       "    <g id=\"xtick_3\">\n",
       "     <g id=\"line2d_5\">\n",
       "      <path clip-path=\"url(#peecd1ba6c1)\" d=\"M 128.5625 59.3355  L 128.5625 32.1555  \" style=\"fill:none;stroke:#b0b0b0;stroke-linecap:square;stroke-width:0.8;\"/>\n",
       "     </g>\n",
       "     <g id=\"line2d_6\">\n",
       "      <g>\n",
       "       <use style=\"stroke:#000000;stroke-width:0.8;\" x=\"128.5625\" xlink:href=\"#mdbf95f68cb\" y=\"59.3355\"/>\n",
       "      </g>\n",
       "     </g>\n",
       "    </g>\n",
       "   </g>\n",
       "   <g id=\"matplotlib.axis_2\">\n",
       "    <g id=\"ytick_1\">\n",
       "     <g id=\"line2d_7\">\n",
       "      <defs>\n",
       "       <path d=\"M 0 0  L -3.5 0  \" id=\"mf53bf2537b\" style=\"stroke:#000000;stroke-width:0.8;\"/>\n",
       "      </defs>\n",
       "      <g>\n",
       "       <use style=\"stroke:#000000;stroke-width:0.8;\" x=\"16.9625\" xlink:href=\"#mf53bf2537b\" y=\"53.2955\"/>\n",
       "      </g>\n",
       "     </g>\n",
       "     <g id=\"text_1\">\n",
       "      <!-- 1 -->\n",
       "      <g transform=\"translate(3.6 57.094719)scale(0.1 -0.1)\">\n",
       "       <defs>\n",
       "        <path d=\"M 794 531  L 1825 531  L 1825 4091  L 703 3866  L 703 4441  L 1819 4666  L 2450 4666  L 2450 531  L 3481 531  L 3481 0  L 794 0  L 794 531  z \" id=\"DejaVuSans-31\" transform=\"scale(0.015625)\"/>\n",
       "       </defs>\n",
       "       <use xlink:href=\"#DejaVuSans-31\"/>\n",
       "      </g>\n",
       "     </g>\n",
       "    </g>\n",
       "    <g id=\"ytick_2\">\n",
       "     <g id=\"line2d_8\">\n",
       "      <g>\n",
       "       <use style=\"stroke:#000000;stroke-width:0.8;\" x=\"16.9625\" xlink:href=\"#mf53bf2537b\" y=\"38.1955\"/>\n",
       "      </g>\n",
       "     </g>\n",
       "     <g id=\"text_2\">\n",
       "      <!-- 0 -->\n",
       "      <g transform=\"translate(3.6 41.994719)scale(0.1 -0.1)\">\n",
       "       <defs>\n",
       "        <path d=\"M 2034 4250  Q 1547 4250 1301 3770  Q 1056 3291 1056 2328  Q 1056 1369 1301 889  Q 1547 409 2034 409  Q 2525 409 2770 889  Q 3016 1369 3016 2328  Q 3016 3291 2770 3770  Q 2525 4250 2034 4250  z M 2034 4750  Q 2819 4750 3233 4129  Q 3647 3509 3647 2328  Q 3647 1150 3233 529  Q 2819 -91 2034 -91  Q 1250 -91 836 529  Q 422 1150 422 2328  Q 422 3509 836 4129  Q 1250 4750 2034 4750  z \" id=\"DejaVuSans-30\" transform=\"scale(0.015625)\"/>\n",
       "       </defs>\n",
       "       <use xlink:href=\"#DejaVuSans-30\"/>\n",
       "      </g>\n",
       "     </g>\n",
       "    </g>\n",
       "   </g>\n",
       "   <g id=\"patch_5\">\n",
       "    <path d=\"M 16.9625 59.3355  L 16.9625 32.1555  \" style=\"fill:none;stroke:#000000;stroke-linecap:square;stroke-linejoin:miter;stroke-width:0.8;\"/>\n",
       "   </g>\n",
       "   <g id=\"patch_6\">\n",
       "    <path d=\"M 128.5625 59.3355  L 128.5625 32.1555  \" style=\"fill:none;stroke:#000000;stroke-linecap:square;stroke-linejoin:miter;stroke-width:0.8;\"/>\n",
       "   </g>\n",
       "   <g id=\"patch_7\">\n",
       "    <path d=\"M 16.9625 59.3355  L 128.5625 59.3355  \" style=\"fill:none;stroke:#000000;stroke-linecap:square;stroke-linejoin:miter;stroke-width:0.8;\"/>\n",
       "   </g>\n",
       "   <g id=\"patch_8\">\n",
       "    <path d=\"M 16.9625 32.1555  L 128.5625 32.1555  \" style=\"fill:none;stroke:#000000;stroke-linecap:square;stroke-linejoin:miter;stroke-width:0.8;\"/>\n",
       "   </g>\n",
       "   <g id=\"text_3\">\n",
       "    <!-- 0.012 -->\n",
       "    <g transform=\"translate(99.934375 57.255812)scale(0.1 -0.1)\">\n",
       "     <defs>\n",
       "      <path d=\"M 684 794  L 1344 794  L 1344 0  L 684 0  L 684 794  z \" id=\"DejaVuSans-2e\" transform=\"scale(0.015625)\"/>\n",
       "      <path d=\"M 1228 531  L 3431 531  L 3431 0  L 469 0  L 469 531  Q 828 903 1448 1529  Q 2069 2156 2228 2338  Q 2531 2678 2651 2914  Q 2772 3150 2772 3378  Q 2772 3750 2511 3984  Q 2250 4219 1831 4219  Q 1534 4219 1204 4116  Q 875 4013 500 3803  L 500 4441  Q 881 4594 1212 4672  Q 1544 4750 1819 4750  Q 2544 4750 2975 4387  Q 3406 4025 3406 3419  Q 3406 3131 3298 2873  Q 3191 2616 2906 2266  Q 2828 2175 2409 1742  Q 1991 1309 1228 531  z \" id=\"DejaVuSans-32\" transform=\"scale(0.015625)\"/>\n",
       "     </defs>\n",
       "     <use xlink:href=\"#DejaVuSans-30\"/>\n",
       "     <use x=\"63.623047\" xlink:href=\"#DejaVuSans-2e\"/>\n",
       "     <use x=\"95.410156\" xlink:href=\"#DejaVuSans-30\"/>\n",
       "     <use x=\"159.033203\" xlink:href=\"#DejaVuSans-31\"/>\n",
       "     <use x=\"222.65625\" xlink:href=\"#DejaVuSans-32\"/>\n",
       "    </g>\n",
       "   </g>\n",
       "   <g id=\"text_4\">\n",
       "    <!-- 0.99 -->\n",
       "    <g transform=\"translate(106.296875 42.155812)scale(0.1 -0.1)\">\n",
       "     <defs>\n",
       "      <path d=\"M 703 97  L 703 672  Q 941 559 1184 500  Q 1428 441 1663 441  Q 2288 441 2617 861  Q 2947 1281 2994 2138  Q 2813 1869 2534 1725  Q 2256 1581 1919 1581  Q 1219 1581 811 2004  Q 403 2428 403 3163  Q 403 3881 828 4315  Q 1253 4750 1959 4750  Q 2769 4750 3195 4129  Q 3622 3509 3622 2328  Q 3622 1225 3098 567  Q 2575 -91 1691 -91  Q 1453 -91 1209 -44  Q 966 3 703 97  z M 1959 2075  Q 2384 2075 2632 2365  Q 2881 2656 2881 3163  Q 2881 3666 2632 3958  Q 2384 4250 1959 4250  Q 1534 4250 1286 3958  Q 1038 3666 1038 3163  Q 1038 2656 1286 2365  Q 1534 2075 1959 2075  z \" id=\"DejaVuSans-39\" transform=\"scale(0.015625)\"/>\n",
       "     </defs>\n",
       "     <use xlink:href=\"#DejaVuSans-30\"/>\n",
       "     <use x=\"63.623047\" xlink:href=\"#DejaVuSans-2e\"/>\n",
       "     <use x=\"95.410156\" xlink:href=\"#DejaVuSans-39\"/>\n",
       "     <use x=\"159.033203\" xlink:href=\"#DejaVuSans-39\"/>\n",
       "    </g>\n",
       "   </g>\n",
       "   <g id=\"text_5\">\n",
       "    <!-- m -->\n",
       "    <g transform=\"translate(66.918125 12.718125)scale(0.12 -0.12)\">\n",
       "     <defs>\n",
       "      <path d=\"M 3328 2828  Q 3544 3216 3844 3400  Q 4144 3584 4550 3584  Q 5097 3584 5394 3201  Q 5691 2819 5691 2113  L 5691 0  L 5113 0  L 5113 2094  Q 5113 2597 4934 2840  Q 4756 3084 4391 3084  Q 3944 3084 3684 2787  Q 3425 2491 3425 1978  L 3425 0  L 2847 0  L 2847 2094  Q 2847 2600 2669 2842  Q 2491 3084 2119 3084  Q 1678 3084 1418 2786  Q 1159 2488 1159 1978  L 1159 0  L 581 0  L 581 3500  L 1159 3500  L 1159 2956  Q 1356 3278 1631 3431  Q 1906 3584 2284 3584  Q 2666 3584 2933 3390  Q 3200 3197 3328 2828  z \" id=\"DejaVuSans-6d\" transform=\"scale(0.015625)\"/>\n",
       "     </defs>\n",
       "     <use xlink:href=\"#DejaVuSans-6d\"/>\n",
       "    </g>\n",
       "    <!-- $\\mu=0.01$; $\\sigma=0.11$ -->\n",
       "    <g transform=\"translate(19.7225 26.1555)scale(0.12 -0.12)\">\n",
       "     <defs>\n",
       "      <path d=\"M -84 -1331  L 856 3500  L 1434 3500  L 1009 1322  Q 997 1256 987 1175  Q 978 1094 978 1013  Q 978 722 1161 565  Q 1344 409 1684 409  Q 2147 409 2431 671  Q 2716 934 2816 1459  L 3213 3500  L 3788 3500  L 3266 809  Q 3253 750 3248 706  Q 3244 663 3244 628  Q 3244 531 3283 486  Q 3322 441 3406 441  Q 3438 441 3492 456  Q 3547 472 3647 513  L 3559 50  Q 3422 -19 3297 -55  Q 3172 -91 3053 -91  Q 2847 -91 2730 40  Q 2613 172 2613 403  Q 2438 153 2195 31  Q 1953 -91 1625 -91  Q 1334 -91 1117 43  Q 900 178 831 397  L 494 -1331  L -84 -1331  z \" id=\"DejaVuSans-Oblique-3bc\" transform=\"scale(0.015625)\"/>\n",
       "      <path d=\"M 678 2906  L 4684 2906  L 4684 2381  L 678 2381  L 678 2906  z M 678 1631  L 4684 1631  L 4684 1100  L 678 1100  L 678 1631  z \" id=\"DejaVuSans-3d\" transform=\"scale(0.015625)\"/>\n",
       "      <path d=\"M 750 3309  L 1409 3309  L 1409 2516  L 750 2516  L 750 3309  z M 750 794  L 1409 794  L 1409 256  L 897 -744  L 494 -744  L 750 256  L 750 794  z \" id=\"DejaVuSans-3b\" transform=\"scale(0.015625)\"/>\n",
       "      <path id=\"DejaVuSans-20\" transform=\"scale(0.015625)\"/>\n",
       "      <path d=\"M 2219 3044  Q 1744 3044 1422 2700  Q 1081 2341 969 1747  Q 844 1119 1044 756  Q 1241 397 1706 397  Q 2166 397 2503 759  Q 2844 1122 2966 1747  Q 3075 2319 2881 2700  Q 2700 3044 2219 3044  z M 2309 3503  L 4219 3500  L 4106 2925  L 3463 2925  Q 3706 2438 3575 1747  Q 3406 888 2884 400  Q 2359 -91 1609 -91  Q 856 -91 525 400  Q 194 888 363 1747  Q 528 2609 1050 3097  Q 1484 3503 2309 3503  z \" id=\"DejaVuSans-Oblique-3c3\" transform=\"scale(0.015625)\"/>\n",
       "     </defs>\n",
       "     <use transform=\"translate(0 0.78125)\" xlink:href=\"#DejaVuSans-Oblique-3bc\"/>\n",
       "     <use transform=\"translate(83.105469 0.78125)\" xlink:href=\"#DejaVuSans-3d\"/>\n",
       "     <use transform=\"translate(186.376953 0.78125)\" xlink:href=\"#DejaVuSans-30\"/>\n",
       "     <use transform=\"translate(250 0.78125)\" xlink:href=\"#DejaVuSans-2e\"/>\n",
       "     <use transform=\"translate(281.787109 0.78125)\" xlink:href=\"#DejaVuSans-30\"/>\n",
       "     <use transform=\"translate(345.410156 0.78125)\" xlink:href=\"#DejaVuSans-31\"/>\n",
       "     <use transform=\"translate(409.033203 0.78125)\" xlink:href=\"#DejaVuSans-3b\"/>\n",
       "     <use transform=\"translate(442.724609 0.78125)\" xlink:href=\"#DejaVuSans-20\"/>\n",
       "     <use transform=\"translate(474.511719 0.78125)\" xlink:href=\"#DejaVuSans-Oblique-3c3\"/>\n",
       "     <use transform=\"translate(557.373047 0.78125)\" xlink:href=\"#DejaVuSans-3d\"/>\n",
       "     <use transform=\"translate(660.644531 0.78125)\" xlink:href=\"#DejaVuSans-30\"/>\n",
       "     <use transform=\"translate(724.267578 0.78125)\" xlink:href=\"#DejaVuSans-2e\"/>\n",
       "     <use transform=\"translate(756.054688 0.78125)\" xlink:href=\"#DejaVuSans-31\"/>\n",
       "     <use transform=\"translate(819.677734 0.78125)\" xlink:href=\"#DejaVuSans-31\"/>\n",
       "    </g>\n",
       "   </g>\n",
       "  </g>\n",
       " </g>\n",
       " <defs>\n",
       "  <clipPath id=\"peecd1ba6c1\">\n",
       "   <rect height=\"27.18\" width=\"111.6\" x=\"16.9625\" y=\"32.1555\"/>\n",
       "  </clipPath>\n",
       " </defs>\n",
       "</svg>\n",
       "\n",
       "</g>\n",
       "<!-- a&#45;&gt;m -->\n",
       "<g id=\"edge4\" class=\"edge\">\n",
       "<title>a-&gt;m</title>\n",
       "<g id=\"a_edge4\"><a xlink:title=\"(2, 4):\">\n",
       "<path fill=\"none\" stroke=\"#4a4a4a\" d=\"M84.95,-111.84C89.95,-103.71 96.21,-93.53 102.2,-83.8\"/>\n",
       "<polygon fill=\"#4a4a4a\" stroke=\"#4a4a4a\" points=\"105.32,-85.4 107.58,-75.05 99.36,-81.73 105.32,-85.4\"/>\n",
       "</a>\n",
       "</g>\n",
       "</g>\n",
       "</g>\n",
       "</svg>"
      ],
      "text/plain": [
       "<IPython.core.display.SVG object>"
      ]
     },
     "metadata": {},
     "output_type": "display_data"
    }
   ],
   "source": [
    "gnb.showInference(bn, targets={'m'})"
   ]
  },
  {
   "cell_type": "markdown",
   "id": "be8cc582",
   "metadata": {},
   "source": [
    "$P(m|+b,+a) = P(m|+a)$"
   ]
  },
  {
   "cell_type": "code",
   "execution_count": 32,
   "id": "9bf218b6",
   "metadata": {},
   "outputs": [
    {
     "data": {
      "text/html": [
       "<table style=\"border:1px solid black;\">\n",
       "<tr style='border:1px solid black;color:black;background-color:#808080'><th colspan='2'><center>m</center></th></tr>\n",
       "<tr><th style='border:1px solid black;border-bottom-style: double;color:black;background-color:#BBBBBB'><center>0</center></th><th style='border:1px solid black;border-bottom-style: double;color:black;background-color:#BBBBBB'><center>1</center></th></tr>\n",
       "<tr><td style='color:black;background-color:#d8a564;text-align:right;'>0.3000</td><td style='color:black;background-color:#a5d864;text-align:right;'>0.7000</td></tr>\n",
       "</table>"
      ],
      "text/plain": [
       "(gum::Potential<double>@00000192C48DECD0) \n",
       "  m                |\n",
       "0        |1        |\n",
       "---------|---------|\n",
       " 0.3000  | 0.7000  |"
      ]
     },
     "execution_count": 32,
     "metadata": {},
     "output_type": "execute_result"
    }
   ],
   "source": [
    "ie.setEvidence({'a':1})\n",
    "ie.makeInference()\n",
    "ie.posterior(m)"
   ]
  },
  {
   "cell_type": "code",
   "execution_count": 34,
   "id": "708fa777",
   "metadata": {},
   "outputs": [
    {
     "data": {
      "image/svg+xml": [
       "<svg xmlns=\"http://www.w3.org/2000/svg\" xmlns:xlink=\"http://www.w3.org/1999/xlink\" width=\"182pt\" height=\"227pt\" viewBox=\"0.00 0.00 181.50 227.00\">\n",
       "<g id=\"graph0\" class=\"graph\" transform=\"scale(1 1) rotate(0) translate(4 223)\">\n",
       "<title>structs</title>\n",
       "<text text-anchor=\"middle\" x=\"86.75\" y=\"-7.8\" font-family=\"Times New Roman,serif\" font-size=\"14.00\" fill=\"#4a4a4a\">Inference in   1.00ms</text>\n",
       "<!-- b -->\n",
       "<g id=\"node1\" class=\"node\">\n",
       "<title>b</title>\n",
       "<ellipse fill=\"#404040\" stroke=\"#000000\" cx=\"39\" cy=\"-201\" rx=\"27\" ry=\"18\"/>\n",
       "<text text-anchor=\"middle\" x=\"39\" y=\"-197.3\" font-family=\"Times New Roman,serif\" font-size=\"14.00\" fill=\"white\">b</text>\n",
       "</g>\n",
       "<!-- a -->\n",
       "<g id=\"node3\" class=\"node\">\n",
       "<title>a</title>\n",
       "<ellipse fill=\"#404040\" stroke=\"#000000\" cx=\"75\" cy=\"-129\" rx=\"27\" ry=\"18\"/>\n",
       "<text text-anchor=\"middle\" x=\"75\" y=\"-125.3\" font-family=\"Times New Roman,serif\" font-size=\"14.00\" fill=\"white\">a</text>\n",
       "</g>\n",
       "<!-- b&#45;&gt;a -->\n",
       "<g id=\"edge2\" class=\"edge\">\n",
       "<title>b-&gt;a</title>\n",
       "<g id=\"a_edge2\"><a xlink:title=\"(0, 2):\">\n",
       "<path fill=\"none\" stroke=\"#4a4a4a\" d=\"M47.35,-183.76C51.71,-175.28 57.15,-164.71 62.04,-155.2\"/>\n",
       "<polygon fill=\"#4a4a4a\" stroke=\"#4a4a4a\" points=\"65.23,-156.64 66.7,-146.15 59.01,-153.44 65.23,-156.64\"/>\n",
       "</a>\n",
       "</g>\n",
       "</g>\n",
       "<!-- e -->\n",
       "<g id=\"node2\" class=\"node\">\n",
       "<title>e</title>\n",
       "<ellipse fill=\"#404040\" stroke=\"#000000\" cx=\"111\" cy=\"-201\" rx=\"27\" ry=\"18\"/>\n",
       "<text text-anchor=\"middle\" x=\"111\" y=\"-197.3\" font-family=\"Times New Roman,serif\" font-size=\"14.00\" fill=\"white\">e</text>\n",
       "</g>\n",
       "<!-- e&#45;&gt;a -->\n",
       "<g id=\"edge3\" class=\"edge\">\n",
       "<title>e-&gt;a</title>\n",
       "<g id=\"a_edge3\"><a xlink:title=\"(1, 2):\">\n",
       "<path fill=\"none\" stroke=\"#4a4a4a\" d=\"M102.65,-183.76C98.29,-175.28 92.85,-164.71 87.96,-155.2\"/>\n",
       "<polygon fill=\"#4a4a4a\" stroke=\"#4a4a4a\" points=\"90.99,-153.44 83.3,-146.15 84.77,-156.64 90.99,-153.44\"/>\n",
       "</a>\n",
       "</g>\n",
       "</g>\n",
       "<!-- j -->\n",
       "<g id=\"node4\" class=\"node\">\n",
       "<title>j</title>\n",
       "<ellipse fill=\"#404040\" stroke=\"#000000\" cx=\"27\" cy=\"-49\" rx=\"27\" ry=\"18\"/>\n",
       "<text text-anchor=\"middle\" x=\"27\" y=\"-45.3\" font-family=\"Times New Roman,serif\" font-size=\"14.00\" fill=\"white\">j</text>\n",
       "</g>\n",
       "<!-- a&#45;&gt;j -->\n",
       "<g id=\"edge1\" class=\"edge\">\n",
       "<title>a-&gt;j</title>\n",
       "<g id=\"a_edge1\"><a xlink:title=\"(2, 3):\">\n",
       "<path fill=\"none\" stroke=\"#4a4a4a\" d=\"M65.05,-111.84C58.45,-101.1 49.64,-86.79 42.17,-74.65\"/>\n",
       "<polygon fill=\"#4a4a4a\" stroke=\"#4a4a4a\" points=\"44.99,-72.56 36.77,-65.87 39.03,-76.23 44.99,-72.56\"/>\n",
       "</a>\n",
       "</g>\n",
       "</g>\n",
       "<!-- m -->\n",
       "<g id=\"node5\" class=\"node\">\n",
       "<title>m</title>\n",
       "<polygon fill=\"#e0e0e0\" stroke=\"#000000\" points=\"173.5,-75 72.5,-75 72.5,-23 173.5,-23 173.5,-75\"/>\n",
       "<svg viewBox=\"0 0 132.1625 66.4355\" width=\"101px\" height=\"52px\" preserveAspectRatio=\"xMinYMin meet\" x=\"72.5\" y=\"-75\"> <metadata>\n",
       "  <rdf:RDF xmlns:cc=\"http://creativecommons.org/ns#\" xmlns:dc=\"http://purl.org/dc/elements/1.1/\" xmlns:rdf=\"http://www.w3.org/1999/02/22-rdf-syntax-ns#\">\n",
       "   <cc:Work>\n",
       "    <dc:type rdf:resource=\"http://purl.org/dc/dcmitype/StillImage\"/>\n",
       "    <dc:date>2021-04-11T23:23:55.615347</dc:date>\n",
       "    <dc:format>image/svg+xml</dc:format>\n",
       "    <dc:creator>\n",
       "     <cc:Agent>\n",
       "      <dc:title>Matplotlib v3.4.1, https://matplotlib.org/</dc:title>\n",
       "     </cc:Agent>\n",
       "    </dc:creator>\n",
       "   </cc:Work>\n",
       "  </rdf:RDF>\n",
       " </metadata>\n",
       " <defs>\n",
       "  <style type=\"text/css\">*{stroke-linecap:butt;stroke-linejoin:round;}</style>\n",
       " </defs>\n",
       " <g id=\"figure_1\">\n",
       "  <g id=\"patch_1\">\n",
       "   <path d=\"M 0 66.4355  L 132.1625 66.4355  L 132.1625 0  L 0 0  z \" style=\"fill:#e0e0e0;\"/>\n",
       "  </g>\n",
       "  <g id=\"axes_1\">\n",
       "   <g id=\"patch_2\">\n",
       "    <path d=\"M 16.9625 59.3355  L 128.5625 59.3355  L 128.5625 32.1555  L 16.9625 32.1555  z \" style=\"fill:#ffffff;\"/>\n",
       "   </g>\n",
       "   <g id=\"patch_3\">\n",
       "    <path clip-path=\"url(#p9d25aaeef3)\" d=\"M 16.9625 59.3355  L 18.272276 59.3355  L 18.272276 47.2555  L 16.9625 47.2555  z \" style=\"fill:#8fbc8f;\"/>\n",
       "   </g>\n",
       "   <g id=\"patch_4\">\n",
       "    <path clip-path=\"url(#p9d25aaeef3)\" d=\"M 16.9625 44.2355  L 127.252724 44.2355  L 127.252724 32.1555  L 16.9625 32.1555  z \" style=\"fill:#8fbc8f;\"/>\n",
       "   </g>\n",
       "   <g id=\"matplotlib.axis_1\">\n",
       "    <g id=\"xtick_1\">\n",
       "     <g id=\"line2d_1\">\n",
       "      <path clip-path=\"url(#p9d25aaeef3)\" d=\"M 16.9625 59.3355  L 16.9625 32.1555  \" style=\"fill:none;stroke:#b0b0b0;stroke-linecap:square;stroke-width:0.8;\"/>\n",
       "     </g>\n",
       "     <g id=\"line2d_2\">\n",
       "      <defs>\n",
       "       <path d=\"M 0 0  L 0 3.5  \" id=\"m5f8b34c458\" style=\"stroke:#000000;stroke-width:0.8;\"/>\n",
       "      </defs>\n",
       "      <g>\n",
       "       <use style=\"stroke:#000000;stroke-width:0.8;\" x=\"16.9625\" xlink:href=\"#m5f8b34c458\" y=\"59.3355\"/>\n",
       "      </g>\n",
       "     </g>\n",
       "    </g>\n",
       "    <g id=\"xtick_2\">\n",
       "     <g id=\"line2d_3\">\n",
       "      <path clip-path=\"url(#p9d25aaeef3)\" d=\"M 72.7625 59.3355  L 72.7625 32.1555  \" style=\"fill:none;stroke:#b0b0b0;stroke-linecap:square;stroke-width:0.8;\"/>\n",
       "     </g>\n",
       "     <g id=\"line2d_4\">\n",
       "      <g>\n",
       "       <use style=\"stroke:#000000;stroke-width:0.8;\" x=\"72.7625\" xlink:href=\"#m5f8b34c458\" y=\"59.3355\"/>\n",
       "      </g>\n",
       "     </g>\n",
       "    </g>\n",
       "    <g id=\"xtick_3\">\n",
       "     <g id=\"line2d_5\">\n",
       "      <path clip-path=\"url(#p9d25aaeef3)\" d=\"M 128.5625 59.3355  L 128.5625 32.1555  \" style=\"fill:none;stroke:#b0b0b0;stroke-linecap:square;stroke-width:0.8;\"/>\n",
       "     </g>\n",
       "     <g id=\"line2d_6\">\n",
       "      <g>\n",
       "       <use style=\"stroke:#000000;stroke-width:0.8;\" x=\"128.5625\" xlink:href=\"#m5f8b34c458\" y=\"59.3355\"/>\n",
       "      </g>\n",
       "     </g>\n",
       "    </g>\n",
       "   </g>\n",
       "   <g id=\"matplotlib.axis_2\">\n",
       "    <g id=\"ytick_1\">\n",
       "     <g id=\"line2d_7\">\n",
       "      <defs>\n",
       "       <path d=\"M 0 0  L -3.5 0  \" id=\"mfdb05fb00a\" style=\"stroke:#000000;stroke-width:0.8;\"/>\n",
       "      </defs>\n",
       "      <g>\n",
       "       <use style=\"stroke:#000000;stroke-width:0.8;\" x=\"16.9625\" xlink:href=\"#mfdb05fb00a\" y=\"53.2955\"/>\n",
       "      </g>\n",
       "     </g>\n",
       "     <g id=\"text_1\">\n",
       "      <!-- 1 -->\n",
       "      <g transform=\"translate(3.6 57.094719)scale(0.1 -0.1)\">\n",
       "       <defs>\n",
       "        <path d=\"M 794 531  L 1825 531  L 1825 4091  L 703 3866  L 703 4441  L 1819 4666  L 2450 4666  L 2450 531  L 3481 531  L 3481 0  L 794 0  L 794 531  z \" id=\"DejaVuSans-31\" transform=\"scale(0.015625)\"/>\n",
       "       </defs>\n",
       "       <use xlink:href=\"#DejaVuSans-31\"/>\n",
       "      </g>\n",
       "     </g>\n",
       "    </g>\n",
       "    <g id=\"ytick_2\">\n",
       "     <g id=\"line2d_8\">\n",
       "      <g>\n",
       "       <use style=\"stroke:#000000;stroke-width:0.8;\" x=\"16.9625\" xlink:href=\"#mfdb05fb00a\" y=\"38.1955\"/>\n",
       "      </g>\n",
       "     </g>\n",
       "     <g id=\"text_2\">\n",
       "      <!-- 0 -->\n",
       "      <g transform=\"translate(3.6 41.994719)scale(0.1 -0.1)\">\n",
       "       <defs>\n",
       "        <path d=\"M 2034 4250  Q 1547 4250 1301 3770  Q 1056 3291 1056 2328  Q 1056 1369 1301 889  Q 1547 409 2034 409  Q 2525 409 2770 889  Q 3016 1369 3016 2328  Q 3016 3291 2770 3770  Q 2525 4250 2034 4250  z M 2034 4750  Q 2819 4750 3233 4129  Q 3647 3509 3647 2328  Q 3647 1150 3233 529  Q 2819 -91 2034 -91  Q 1250 -91 836 529  Q 422 1150 422 2328  Q 422 3509 836 4129  Q 1250 4750 2034 4750  z \" id=\"DejaVuSans-30\" transform=\"scale(0.015625)\"/>\n",
       "       </defs>\n",
       "       <use xlink:href=\"#DejaVuSans-30\"/>\n",
       "      </g>\n",
       "     </g>\n",
       "    </g>\n",
       "   </g>\n",
       "   <g id=\"patch_5\">\n",
       "    <path d=\"M 16.9625 59.3355  L 16.9625 32.1555  \" style=\"fill:none;stroke:#000000;stroke-linecap:square;stroke-linejoin:miter;stroke-width:0.8;\"/>\n",
       "   </g>\n",
       "   <g id=\"patch_6\">\n",
       "    <path d=\"M 128.5625 59.3355  L 128.5625 32.1555  \" style=\"fill:none;stroke:#000000;stroke-linecap:square;stroke-linejoin:miter;stroke-width:0.8;\"/>\n",
       "   </g>\n",
       "   <g id=\"patch_7\">\n",
       "    <path d=\"M 16.9625 59.3355  L 128.5625 59.3355  \" style=\"fill:none;stroke:#000000;stroke-linecap:square;stroke-linejoin:miter;stroke-width:0.8;\"/>\n",
       "   </g>\n",
       "   <g id=\"patch_8\">\n",
       "    <path d=\"M 16.9625 32.1555  L 128.5625 32.1555  \" style=\"fill:none;stroke:#000000;stroke-linecap:square;stroke-linejoin:miter;stroke-width:0.8;\"/>\n",
       "   </g>\n",
       "   <g id=\"text_3\">\n",
       "    <!-- 0.012 -->\n",
       "    <g transform=\"translate(99.934375 57.255812)scale(0.1 -0.1)\">\n",
       "     <defs>\n",
       "      <path d=\"M 684 794  L 1344 794  L 1344 0  L 684 0  L 684 794  z \" id=\"DejaVuSans-2e\" transform=\"scale(0.015625)\"/>\n",
       "      <path d=\"M 1228 531  L 3431 531  L 3431 0  L 469 0  L 469 531  Q 828 903 1448 1529  Q 2069 2156 2228 2338  Q 2531 2678 2651 2914  Q 2772 3150 2772 3378  Q 2772 3750 2511 3984  Q 2250 4219 1831 4219  Q 1534 4219 1204 4116  Q 875 4013 500 3803  L 500 4441  Q 881 4594 1212 4672  Q 1544 4750 1819 4750  Q 2544 4750 2975 4387  Q 3406 4025 3406 3419  Q 3406 3131 3298 2873  Q 3191 2616 2906 2266  Q 2828 2175 2409 1742  Q 1991 1309 1228 531  z \" id=\"DejaVuSans-32\" transform=\"scale(0.015625)\"/>\n",
       "     </defs>\n",
       "     <use xlink:href=\"#DejaVuSans-30\"/>\n",
       "     <use x=\"63.623047\" xlink:href=\"#DejaVuSans-2e\"/>\n",
       "     <use x=\"95.410156\" xlink:href=\"#DejaVuSans-30\"/>\n",
       "     <use x=\"159.033203\" xlink:href=\"#DejaVuSans-31\"/>\n",
       "     <use x=\"222.65625\" xlink:href=\"#DejaVuSans-32\"/>\n",
       "    </g>\n",
       "   </g>\n",
       "   <g id=\"text_4\">\n",
       "    <!-- 0.99 -->\n",
       "    <g transform=\"translate(106.296875 42.155812)scale(0.1 -0.1)\">\n",
       "     <defs>\n",
       "      <path d=\"M 703 97  L 703 672  Q 941 559 1184 500  Q 1428 441 1663 441  Q 2288 441 2617 861  Q 2947 1281 2994 2138  Q 2813 1869 2534 1725  Q 2256 1581 1919 1581  Q 1219 1581 811 2004  Q 403 2428 403 3163  Q 403 3881 828 4315  Q 1253 4750 1959 4750  Q 2769 4750 3195 4129  Q 3622 3509 3622 2328  Q 3622 1225 3098 567  Q 2575 -91 1691 -91  Q 1453 -91 1209 -44  Q 966 3 703 97  z M 1959 2075  Q 2384 2075 2632 2365  Q 2881 2656 2881 3163  Q 2881 3666 2632 3958  Q 2384 4250 1959 4250  Q 1534 4250 1286 3958  Q 1038 3666 1038 3163  Q 1038 2656 1286 2365  Q 1534 2075 1959 2075  z \" id=\"DejaVuSans-39\" transform=\"scale(0.015625)\"/>\n",
       "     </defs>\n",
       "     <use xlink:href=\"#DejaVuSans-30\"/>\n",
       "     <use x=\"63.623047\" xlink:href=\"#DejaVuSans-2e\"/>\n",
       "     <use x=\"95.410156\" xlink:href=\"#DejaVuSans-39\"/>\n",
       "     <use x=\"159.033203\" xlink:href=\"#DejaVuSans-39\"/>\n",
       "    </g>\n",
       "   </g>\n",
       "   <g id=\"text_5\">\n",
       "    <!-- m -->\n",
       "    <g transform=\"translate(66.918125 12.718125)scale(0.12 -0.12)\">\n",
       "     <defs>\n",
       "      <path d=\"M 3328 2828  Q 3544 3216 3844 3400  Q 4144 3584 4550 3584  Q 5097 3584 5394 3201  Q 5691 2819 5691 2113  L 5691 0  L 5113 0  L 5113 2094  Q 5113 2597 4934 2840  Q 4756 3084 4391 3084  Q 3944 3084 3684 2787  Q 3425 2491 3425 1978  L 3425 0  L 2847 0  L 2847 2094  Q 2847 2600 2669 2842  Q 2491 3084 2119 3084  Q 1678 3084 1418 2786  Q 1159 2488 1159 1978  L 1159 0  L 581 0  L 581 3500  L 1159 3500  L 1159 2956  Q 1356 3278 1631 3431  Q 1906 3584 2284 3584  Q 2666 3584 2933 3390  Q 3200 3197 3328 2828  z \" id=\"DejaVuSans-6d\" transform=\"scale(0.015625)\"/>\n",
       "     </defs>\n",
       "     <use xlink:href=\"#DejaVuSans-6d\"/>\n",
       "    </g>\n",
       "    <!-- $\\mu=0.01$; $\\sigma=0.11$ -->\n",
       "    <g transform=\"translate(19.7225 26.1555)scale(0.12 -0.12)\">\n",
       "     <defs>\n",
       "      <path d=\"M -84 -1331  L 856 3500  L 1434 3500  L 1009 1322  Q 997 1256 987 1175  Q 978 1094 978 1013  Q 978 722 1161 565  Q 1344 409 1684 409  Q 2147 409 2431 671  Q 2716 934 2816 1459  L 3213 3500  L 3788 3500  L 3266 809  Q 3253 750 3248 706  Q 3244 663 3244 628  Q 3244 531 3283 486  Q 3322 441 3406 441  Q 3438 441 3492 456  Q 3547 472 3647 513  L 3559 50  Q 3422 -19 3297 -55  Q 3172 -91 3053 -91  Q 2847 -91 2730 40  Q 2613 172 2613 403  Q 2438 153 2195 31  Q 1953 -91 1625 -91  Q 1334 -91 1117 43  Q 900 178 831 397  L 494 -1331  L -84 -1331  z \" id=\"DejaVuSans-Oblique-3bc\" transform=\"scale(0.015625)\"/>\n",
       "      <path d=\"M 678 2906  L 4684 2906  L 4684 2381  L 678 2381  L 678 2906  z M 678 1631  L 4684 1631  L 4684 1100  L 678 1100  L 678 1631  z \" id=\"DejaVuSans-3d\" transform=\"scale(0.015625)\"/>\n",
       "      <path d=\"M 750 3309  L 1409 3309  L 1409 2516  L 750 2516  L 750 3309  z M 750 794  L 1409 794  L 1409 256  L 897 -744  L 494 -744  L 750 256  L 750 794  z \" id=\"DejaVuSans-3b\" transform=\"scale(0.015625)\"/>\n",
       "      <path id=\"DejaVuSans-20\" transform=\"scale(0.015625)\"/>\n",
       "      <path d=\"M 2219 3044  Q 1744 3044 1422 2700  Q 1081 2341 969 1747  Q 844 1119 1044 756  Q 1241 397 1706 397  Q 2166 397 2503 759  Q 2844 1122 2966 1747  Q 3075 2319 2881 2700  Q 2700 3044 2219 3044  z M 2309 3503  L 4219 3500  L 4106 2925  L 3463 2925  Q 3706 2438 3575 1747  Q 3406 888 2884 400  Q 2359 -91 1609 -91  Q 856 -91 525 400  Q 194 888 363 1747  Q 528 2609 1050 3097  Q 1484 3503 2309 3503  z \" id=\"DejaVuSans-Oblique-3c3\" transform=\"scale(0.015625)\"/>\n",
       "     </defs>\n",
       "     <use transform=\"translate(0 0.78125)\" xlink:href=\"#DejaVuSans-Oblique-3bc\"/>\n",
       "     <use transform=\"translate(83.105469 0.78125)\" xlink:href=\"#DejaVuSans-3d\"/>\n",
       "     <use transform=\"translate(186.376953 0.78125)\" xlink:href=\"#DejaVuSans-30\"/>\n",
       "     <use transform=\"translate(250 0.78125)\" xlink:href=\"#DejaVuSans-2e\"/>\n",
       "     <use transform=\"translate(281.787109 0.78125)\" xlink:href=\"#DejaVuSans-30\"/>\n",
       "     <use transform=\"translate(345.410156 0.78125)\" xlink:href=\"#DejaVuSans-31\"/>\n",
       "     <use transform=\"translate(409.033203 0.78125)\" xlink:href=\"#DejaVuSans-3b\"/>\n",
       "     <use transform=\"translate(442.724609 0.78125)\" xlink:href=\"#DejaVuSans-20\"/>\n",
       "     <use transform=\"translate(474.511719 0.78125)\" xlink:href=\"#DejaVuSans-Oblique-3c3\"/>\n",
       "     <use transform=\"translate(557.373047 0.78125)\" xlink:href=\"#DejaVuSans-3d\"/>\n",
       "     <use transform=\"translate(660.644531 0.78125)\" xlink:href=\"#DejaVuSans-30\"/>\n",
       "     <use transform=\"translate(724.267578 0.78125)\" xlink:href=\"#DejaVuSans-2e\"/>\n",
       "     <use transform=\"translate(756.054688 0.78125)\" xlink:href=\"#DejaVuSans-31\"/>\n",
       "     <use transform=\"translate(819.677734 0.78125)\" xlink:href=\"#DejaVuSans-31\"/>\n",
       "    </g>\n",
       "   </g>\n",
       "  </g>\n",
       " </g>\n",
       " <defs>\n",
       "  <clipPath id=\"p9d25aaeef3\">\n",
       "   <rect height=\"27.18\" width=\"111.6\" x=\"16.9625\" y=\"32.1555\"/>\n",
       "  </clipPath>\n",
       " </defs>\n",
       "</svg>\n",
       "\n",
       "</g>\n",
       "<!-- a&#45;&gt;m -->\n",
       "<g id=\"edge4\" class=\"edge\">\n",
       "<title>a-&gt;m</title>\n",
       "<g id=\"a_edge4\"><a xlink:title=\"(2, 4):\">\n",
       "<path fill=\"none\" stroke=\"#4a4a4a\" d=\"M84.95,-111.84C89.95,-103.71 96.21,-93.53 102.2,-83.8\"/>\n",
       "<polygon fill=\"#4a4a4a\" stroke=\"#4a4a4a\" points=\"105.32,-85.4 107.58,-75.05 99.36,-81.73 105.32,-85.4\"/>\n",
       "</a>\n",
       "</g>\n",
       "</g>\n",
       "</g>\n",
       "</svg>"
      ],
      "text/plain": [
       "<IPython.core.display.SVG object>"
      ]
     },
     "metadata": {},
     "output_type": "display_data"
    }
   ],
   "source": [
    "gnb.showInference(bn, targets={'m'})"
   ]
  },
  {
   "cell_type": "markdown",
   "id": "c2baedc7",
   "metadata": {},
   "source": [
    "$P(+b,-e,+a,-j,+m) = P(+b) * P(-e) * P(+a | +b,-e) * P(-j | +a ) * P(+m | +a )$"
   ]
  },
  {
   "cell_type": "code",
   "execution_count": 37,
   "id": "2525a66c",
   "metadata": {},
   "outputs": [
    {
     "name": "stdout",
     "output_type": "stream",
     "text": [
      "P(+b,-e,+a,-j,+m) = 6.56684e-05\n"
     ]
    }
   ],
   "source": [
    "ie = gum.LazyPropagation(bn)\n",
    "ie.makeInference()\n",
    "\n",
    "#+b\n",
    "b1 = float(ie.posterior(b)[1])\n",
    "\n",
    "#-e\n",
    "e0 = float(ie.posterior(e)[0])\n",
    "\n",
    "ie.setEvidence({'b':1, 'e':0})\n",
    "ie.makeInference()\n",
    "\n",
    "#P(+a|+b,-e)\n",
    "a1b1e0 = float(ie.posterior(a)[1])\n",
    "\n",
    "ie.setEvidence({'a':1})\n",
    "ie.makeInference()\n",
    "\n",
    "#P(-j|+a)\n",
    "j0a1 = float(ie.posterior(j)[0])\n",
    "\n",
    "#P(+m|+a)\n",
    "m1a1 = float(ie.posterior(m)[1])\n",
    "\n",
    "result = b1 * e0 * a1b1e0 * j0a1 * m1a1\n",
    "\n",
    "print('P(+b,-e,+a,-j,+m) = ' + str(result))\n"
   ]
  }
 ],
 "metadata": {
  "kernelspec": {
   "display_name": "Python 3",
   "language": "python",
   "name": "python3"
  },
  "language_info": {
   "codemirror_mode": {
    "name": "ipython",
    "version": 3
   },
   "file_extension": ".py",
   "mimetype": "text/x-python",
   "name": "python",
   "nbconvert_exporter": "python",
   "pygments_lexer": "ipython3",
   "version": "3.9.4"
  }
 },
 "nbformat": 4,
 "nbformat_minor": 5
}
